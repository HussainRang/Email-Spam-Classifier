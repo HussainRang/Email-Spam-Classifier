{
 "cells": [
  {
   "cell_type": "code",
   "execution_count": 1,
   "metadata": {},
   "outputs": [],
   "source": [
    "import numpy as np\n",
    "import pandas as pd\n",
    "import matplotlib.pyplot as plt\n",
    "import seaborn as sns\n",
    "import nltk"
   ]
  },
  {
   "cell_type": "code",
   "execution_count": 2,
   "metadata": {},
   "outputs": [],
   "source": [
    "df = pd.read_csv('spam.csv',encoding='latin')"
   ]
  },
  {
   "cell_type": "code",
   "execution_count": 3,
   "metadata": {},
   "outputs": [
    {
     "name": "stdout",
     "output_type": "stream",
     "text": [
      "Rows: 5572\n",
      "Columns: 5\n"
     ]
    }
   ],
   "source": [
    "(rows,cols) = df.shape\n",
    "print(\"Rows:\",rows)\n",
    "print(\"Columns:\",cols)"
   ]
  },
  {
   "cell_type": "markdown",
   "metadata": {},
   "source": [
    "# CHECKING FOR NULL VALUES"
   ]
  },
  {
   "cell_type": "code",
   "execution_count": 4,
   "metadata": {},
   "outputs": [
    {
     "data": {
      "text/html": [
       "<div>\n",
       "<style scoped>\n",
       "    .dataframe tbody tr th:only-of-type {\n",
       "        vertical-align: middle;\n",
       "    }\n",
       "\n",
       "    .dataframe tbody tr th {\n",
       "        vertical-align: top;\n",
       "    }\n",
       "\n",
       "    .dataframe thead th {\n",
       "        text-align: right;\n",
       "    }\n",
       "</style>\n",
       "<table border=\"1\" class=\"dataframe\">\n",
       "  <thead>\n",
       "    <tr style=\"text-align: right;\">\n",
       "      <th></th>\n",
       "      <th>v1</th>\n",
       "      <th>v2</th>\n",
       "      <th>Unnamed: 2</th>\n",
       "      <th>Unnamed: 3</th>\n",
       "      <th>Unnamed: 4</th>\n",
       "    </tr>\n",
       "  </thead>\n",
       "  <tbody>\n",
       "    <tr>\n",
       "      <th>95</th>\n",
       "      <td>spam</td>\n",
       "      <td>Your free ringtone is waiting to be collected....</td>\n",
       "      <td>PO Box 5249</td>\n",
       "      <td>MK17 92H. 450Ppw 16\"</td>\n",
       "      <td>NaN</td>\n",
       "    </tr>\n",
       "    <tr>\n",
       "      <th>281</th>\n",
       "      <td>ham</td>\n",
       "      <td>\\Wen u miss someone</td>\n",
       "      <td>the person is definitely special for u..... B...</td>\n",
       "      <td>why to miss them</td>\n",
       "      <td>just Keep-in-touch\\\" gdeve..\"</td>\n",
       "    </tr>\n",
       "    <tr>\n",
       "      <th>444</th>\n",
       "      <td>ham</td>\n",
       "      <td>\\HEY HEY WERETHE MONKEESPEOPLE SAY WE MONKEYAR...</td>\n",
       "      <td>HOWU DOIN? FOUNDURSELF A JOBYET SAUSAGE?LOVE ...</td>\n",
       "      <td>NaN</td>\n",
       "      <td>NaN</td>\n",
       "    </tr>\n",
       "    <tr>\n",
       "      <th>671</th>\n",
       "      <td>spam</td>\n",
       "      <td>SMS. ac sun0819 posts HELLO:\\You seem cool</td>\n",
       "      <td>wanted to say hi. HI!!!\\\" Stop? Send STOP to ...</td>\n",
       "      <td>NaN</td>\n",
       "      <td>NaN</td>\n",
       "    </tr>\n",
       "    <tr>\n",
       "      <th>710</th>\n",
       "      <td>ham</td>\n",
       "      <td>Height of Confidence: All the Aeronautics prof...</td>\n",
       "      <td>this wont even start........ Datz confidence..\"</td>\n",
       "      <td>NaN</td>\n",
       "      <td>NaN</td>\n",
       "    </tr>\n",
       "    <tr>\n",
       "      <th>899</th>\n",
       "      <td>spam</td>\n",
       "      <td>Your free ringtone is waiting to be collected....</td>\n",
       "      <td>PO Box 5249</td>\n",
       "      <td>MK17 92H. 450Ppw 16\"</td>\n",
       "      <td>NaN</td>\n",
       "    </tr>\n",
       "    <tr>\n",
       "      <th>1038</th>\n",
       "      <td>ham</td>\n",
       "      <td>Edison has rightly said, \\A fool can ask more ...</td>\n",
       "      <td>GN</td>\n",
       "      <td>GE</td>\n",
       "      <td>GNT:-)\"</td>\n",
       "    </tr>\n",
       "    <tr>\n",
       "      <th>1127</th>\n",
       "      <td>ham</td>\n",
       "      <td>Height of \\Oh shit....!!\\\" situation: A guy th...</td>\n",
       "      <td>.;-):-D\"</td>\n",
       "      <td>NaN</td>\n",
       "      <td>NaN</td>\n",
       "    </tr>\n",
       "    <tr>\n",
       "      <th>1266</th>\n",
       "      <td>ham</td>\n",
       "      <td>\\Hey sorry I didntgive ya a a bellearlier hunny</td>\n",
       "      <td>just been in bedbut mite go 2 thepub l8tr if u...</td>\n",
       "      <td>NaN</td>\n",
       "      <td>NaN</td>\n",
       "    </tr>\n",
       "    <tr>\n",
       "      <th>1384</th>\n",
       "      <td>ham</td>\n",
       "      <td>Storming msg: Wen u lift d phne, u say \\HELLO\\...</td>\n",
       "      <td>bt not his girlfrnd... G o o d n i g h t . . .@\"</td>\n",
       "      <td>NaN</td>\n",
       "      <td>NaN</td>\n",
       "    </tr>\n",
       "    <tr>\n",
       "      <th>1428</th>\n",
       "      <td>ham</td>\n",
       "      <td>Tell you what, if you make a little spreadshee...</td>\n",
       "      <td>I'll come up\"</td>\n",
       "      <td>NaN</td>\n",
       "      <td>NaN</td>\n",
       "    </tr>\n",
       "    <tr>\n",
       "      <th>1559</th>\n",
       "      <td>ham</td>\n",
       "      <td>Single line with a big meaning::::: \\Miss anyt...</td>\n",
       "      <td>don't miss ur best life for anything... Gud n...</td>\n",
       "      <td>NaN</td>\n",
       "      <td>NaN</td>\n",
       "    </tr>\n",
       "    <tr>\n",
       "      <th>1637</th>\n",
       "      <td>spam</td>\n",
       "      <td>0A$NETWORKS allow companies to bill for SMS, s...</td>\n",
       "      <td>just as a shop has to give a guarantee on wha...</td>\n",
       "      <td>NaN</td>\n",
       "      <td>NaN</td>\n",
       "    </tr>\n",
       "    <tr>\n",
       "      <th>1669</th>\n",
       "      <td>ham</td>\n",
       "      <td>Very hurting n meaningful lines ever: \\I compr...</td>\n",
       "      <td>But at d end my love compromised me for every...</td>\n",
       "      <td>NaN</td>\n",
       "      <td>NaN</td>\n",
       "    </tr>\n",
       "    <tr>\n",
       "      <th>1675</th>\n",
       "      <td>ham</td>\n",
       "      <td>Painful words- \\I thought being Happy was the ...</td>\n",
       "      <td>the toughest is acting Happy with all unspoke...</td>\n",
       "      <td>NaN</td>\n",
       "      <td>NaN</td>\n",
       "    </tr>\n",
       "    <tr>\n",
       "      <th>1936</th>\n",
       "      <td>ham</td>\n",
       "      <td>My planning usually stops at \\find hella weed</td>\n",
       "      <td>smoke hella weed\\\"\"</td>\n",
       "      <td>NaN</td>\n",
       "      <td>NaN</td>\n",
       "    </tr>\n",
       "    <tr>\n",
       "      <th>1937</th>\n",
       "      <td>ham</td>\n",
       "      <td>The fact that you're cleaning shows you know w...</td>\n",
       "      <td>\\\" not \\\"what i need to do.\\\"\"</td>\n",
       "      <td>NaN</td>\n",
       "      <td>NaN</td>\n",
       "    </tr>\n",
       "    <tr>\n",
       "      <th>1997</th>\n",
       "      <td>ham</td>\n",
       "      <td>\\YEH I AM DEF UP4 SOMETHING SAT</td>\n",
       "      <td>JUST GOT PAYED2DAY &amp; I HAVBEEN GIVEN Aå£50 PAY...</td>\n",
       "      <td>NaN</td>\n",
       "      <td>NaN</td>\n",
       "    </tr>\n",
       "    <tr>\n",
       "      <th>2087</th>\n",
       "      <td>ham</td>\n",
       "      <td>\\alright babe</td>\n",
       "      <td>justthought iåÕd sayhey! how u doin?nearly th...</td>\n",
       "      <td>NaN</td>\n",
       "      <td>NaN</td>\n",
       "    </tr>\n",
       "    <tr>\n",
       "      <th>2170</th>\n",
       "      <td>ham</td>\n",
       "      <td>\\CAN I PLEASE COME UP NOW IMIN TOWN.DONTMATTER...</td>\n",
       "      <td>JUST REALLYNEED 2DOCD.PLEASE DONTPLEASE DONTIG...</td>\n",
       "      <td>U NO THECD ISV.IMPORTANT TOME 4 2MORO\\\"\"</td>\n",
       "      <td>NaN</td>\n",
       "    </tr>\n",
       "    <tr>\n",
       "      <th>2235</th>\n",
       "      <td>ham</td>\n",
       "      <td>\\Si.como no?!listened2the plaid album-quite gd...</td>\n",
       "      <td>u hav2hear it!c u sn xxxx\\\"\"</td>\n",
       "      <td>NaN</td>\n",
       "      <td>NaN</td>\n",
       "    </tr>\n",
       "    <tr>\n",
       "      <th>2255</th>\n",
       "      <td>ham</td>\n",
       "      <td>I just lov this line: \\Hurt me with the truth</td>\n",
       "      <td>I don't mind</td>\n",
       "      <td>i wil tolerat.bcs ur my someone..... But</td>\n",
       "      <td>Never comfort me with a lie\\\" gud ni8 and swe...</td>\n",
       "    </tr>\n",
       "    <tr>\n",
       "      <th>2406</th>\n",
       "      <td>ham</td>\n",
       "      <td>One of best dialogue in cute reltnship..!! \\We...</td>\n",
       "      <td>Dont Come Near My Body..!! Bcoz My Hands May ...</td>\n",
       "      <td>NaN</td>\n",
       "      <td>NaN</td>\n",
       "    </tr>\n",
       "    <tr>\n",
       "      <th>2791</th>\n",
       "      <td>ham</td>\n",
       "      <td>Û_ we r stayin here an extra week, back next ...</td>\n",
       "      <td>Well there's still a bit left if you guys want...</td>\n",
       "      <td>NaN</td>\n",
       "      <td>NaN</td>\n",
       "    </tr>\n",
       "    <tr>\n",
       "      <th>2970</th>\n",
       "      <td>ham</td>\n",
       "      <td>Height of Confidence: All the Aeronautics prof...</td>\n",
       "      <td>this wont even start........ Datz confidence..\"</td>\n",
       "      <td>NaN</td>\n",
       "      <td>NaN</td>\n",
       "    </tr>\n",
       "    <tr>\n",
       "      <th>3110</th>\n",
       "      <td>ham</td>\n",
       "      <td>Short But Cute : \\ Be a good person</td>\n",
       "      <td>but dont try to prove\\\" ..... Gud mrng...\"</td>\n",
       "      <td>NaN</td>\n",
       "      <td>NaN</td>\n",
       "    </tr>\n",
       "    <tr>\n",
       "      <th>3145</th>\n",
       "      <td>ham</td>\n",
       "      <td>\\SHIT BABE.. THASA BIT MESSED UP.YEH</td>\n",
       "      <td>SHE SHUDVETOLD U. DID URGRAN KNOW?NEWAY</td>\n",
       "      <td>ILLSPEAK 2 U2MORO WEN IM NOT ASLEEP...\\\"\"</td>\n",
       "      <td>NaN</td>\n",
       "    </tr>\n",
       "    <tr>\n",
       "      <th>3239</th>\n",
       "      <td>ham</td>\n",
       "      <td>A cute thought for friendship: \\Its not necess...</td>\n",
       "      <td>but watever u shared should be true\\\"....\"</td>\n",
       "      <td>NaN</td>\n",
       "      <td>NaN</td>\n",
       "    </tr>\n",
       "    <tr>\n",
       "      <th>3506</th>\n",
       "      <td>ham</td>\n",
       "      <td>Two fundamentals of cool life: \\Walk</td>\n",
       "      <td>like you are the KING\\\"...! OR \\\"Walk like yo...</td>\n",
       "      <td>whoever is the KING\\\"!... Gud nyt\"</td>\n",
       "      <td>NaN</td>\n",
       "    </tr>\n",
       "    <tr>\n",
       "      <th>3525</th>\n",
       "      <td>ham</td>\n",
       "      <td>\\HEY BABE! FAR 2 SPUN-OUT 2 SPK AT DA MO... DE...</td>\n",
       "      <td>HAD A COOL NYTHO</td>\n",
       "      <td>TX 4 FONIN HON</td>\n",
       "      <td>CALL 2MWEN IM BK FRMCLOUD 9! J X\\\"\"</td>\n",
       "    </tr>\n",
       "    <tr>\n",
       "      <th>3547</th>\n",
       "      <td>ham</td>\n",
       "      <td>Single line with a big meaning::::: \\Miss anyt...</td>\n",
       "      <td>don't miss ur best life for anything... Gud n...</td>\n",
       "      <td>NaN</td>\n",
       "      <td>NaN</td>\n",
       "    </tr>\n",
       "    <tr>\n",
       "      <th>3640</th>\n",
       "      <td>spam</td>\n",
       "      <td>You can stop further club tones by replying \\S...</td>\n",
       "      <td>PO Box 1146 MK45 2WT (2/3)\"</td>\n",
       "      <td>NaN</td>\n",
       "      <td>NaN</td>\n",
       "    </tr>\n",
       "    <tr>\n",
       "      <th>3758</th>\n",
       "      <td>ham</td>\n",
       "      <td>GOD ASKED, \\What is forgiveness?\\\" A little ch...</td>\n",
       "      <td>\\\"It is d wonderful fruit that a tree gives w...</td>\n",
       "      <td>NaN</td>\n",
       "      <td>NaN</td>\n",
       "    </tr>\n",
       "    <tr>\n",
       "      <th>3788</th>\n",
       "      <td>ham</td>\n",
       "      <td>Are you sure you don't mean \\get here</td>\n",
       "      <td>we made you hold all the weed\\\"\"</td>\n",
       "      <td>NaN</td>\n",
       "      <td>NaN</td>\n",
       "    </tr>\n",
       "    <tr>\n",
       "      <th>3793</th>\n",
       "      <td>ham</td>\n",
       "      <td>Short But Cute: \\Be a good person</td>\n",
       "      <td>but dont try to prove it..\\\" .Gud noon....\"</td>\n",
       "      <td>NaN</td>\n",
       "      <td>NaN</td>\n",
       "    </tr>\n",
       "    <tr>\n",
       "      <th>3881</th>\n",
       "      <td>ham</td>\n",
       "      <td>Short But Cute: \\Be a good person</td>\n",
       "      <td>but dont try to prove it..\\\" .Gud noon....\"</td>\n",
       "      <td>NaN</td>\n",
       "      <td>NaN</td>\n",
       "    </tr>\n",
       "    <tr>\n",
       "      <th>4130</th>\n",
       "      <td>ham</td>\n",
       "      <td>\\Its Ur luck to Love someone. Its Ur fortune t...</td>\n",
       "      <td>its a miracle to Love a person who can't Love...</td>\n",
       "      <td>NaN</td>\n",
       "      <td>NaN</td>\n",
       "    </tr>\n",
       "    <tr>\n",
       "      <th>4224</th>\n",
       "      <td>ham</td>\n",
       "      <td>\\The world suffers a lot... Not because of the...</td>\n",
       "      <td>Gud night....\"</td>\n",
       "      <td>NaN</td>\n",
       "      <td>NaN</td>\n",
       "    </tr>\n",
       "    <tr>\n",
       "      <th>4454</th>\n",
       "      <td>ham</td>\n",
       "      <td>Storming msg: Wen u lift d phne, u say \\HELLO\\...</td>\n",
       "      <td>bt not his girlfrnd... G o o d n i g h t . . .@\"</td>\n",
       "      <td>NaN</td>\n",
       "      <td>NaN</td>\n",
       "    </tr>\n",
       "    <tr>\n",
       "      <th>4455</th>\n",
       "      <td>ham</td>\n",
       "      <td>If you want to mapquest it or something look u...</td>\n",
       "      <td>that's the tiny street where the parking lot is\"</td>\n",
       "      <td>NaN</td>\n",
       "      <td>NaN</td>\n",
       "    </tr>\n",
       "    <tr>\n",
       "      <th>4570</th>\n",
       "      <td>ham</td>\n",
       "      <td>\\CHA QUITEAMUZING THATåÕSCOOL BABE</td>\n",
       "      <td>PROBPOP IN &amp; CU SATTHEN HUNNY 4BREKKIE! LOVE J...</td>\n",
       "      <td>NaN</td>\n",
       "      <td>NaN</td>\n",
       "    </tr>\n",
       "    <tr>\n",
       "      <th>4601</th>\n",
       "      <td>ham</td>\n",
       "      <td>\\Hey j! r u feeling any better</td>\n",
       "      <td>hopeSo hunny. i amnow feelin ill &amp; ithink i m...</td>\n",
       "      <td>NaN</td>\n",
       "      <td>NaN</td>\n",
       "    </tr>\n",
       "    <tr>\n",
       "      <th>4668</th>\n",
       "      <td>ham</td>\n",
       "      <td>When I was born, GOD said, \\Oh No! Another IDI...</td>\n",
       "      <td>GOD said</td>\n",
       "      <td>\\\"OH No! COMPETITION\\\". Who knew</td>\n",
       "      <td>one day these two will become FREINDS FOREVER!\"</td>\n",
       "    </tr>\n",
       "    <tr>\n",
       "      <th>4859</th>\n",
       "      <td>ham</td>\n",
       "      <td>\\Response\\\" is one of d powerful weapon 2 occu...</td>\n",
       "      <td>always give response 2 who cares 4 U\\\"... Gud...</td>\n",
       "      <td>NaN</td>\n",
       "      <td>NaN</td>\n",
       "    </tr>\n",
       "    <tr>\n",
       "      <th>4992</th>\n",
       "      <td>ham</td>\n",
       "      <td>\\HEY KATE</td>\n",
       "      <td>HOPE UR OK... WILL GIVE U A BUZ WEDLUNCH. GO ...</td>\n",
       "      <td>NaN</td>\n",
       "      <td>NaN</td>\n",
       "    </tr>\n",
       "    <tr>\n",
       "      <th>5048</th>\n",
       "      <td>ham</td>\n",
       "      <td>Edison has rightly said, \\A fool can ask more ...</td>\n",
       "      <td>GN</td>\n",
       "      <td>GE</td>\n",
       "      <td>GNT:-)\"</td>\n",
       "    </tr>\n",
       "    <tr>\n",
       "      <th>5079</th>\n",
       "      <td>ham</td>\n",
       "      <td>\\Keep ur problems in ur heart</td>\n",
       "      <td>b'coz nobody will fight for u. Only u &amp;amp; u...</td>\n",
       "      <td>NaN</td>\n",
       "      <td>NaN</td>\n",
       "    </tr>\n",
       "    <tr>\n",
       "      <th>5081</th>\n",
       "      <td>ham</td>\n",
       "      <td>\\HI BABE UAWAKE?FEELLIKW SHIT.JUSTFOUND OUT VI...</td>\n",
       "      <td>DEVIOUSBITCH.ANYWAY</td>\n",
       "      <td>IåÕL CALL U\\\"\"</td>\n",
       "      <td>NaN</td>\n",
       "    </tr>\n",
       "    <tr>\n",
       "      <th>5264</th>\n",
       "      <td>ham</td>\n",
       "      <td>Storming msg: Wen u lift d phne, u say \\HELLO\\...</td>\n",
       "      <td>bt not his girlfrnd... G o o d n i g h t . . .@\"</td>\n",
       "      <td>NaN</td>\n",
       "      <td>NaN</td>\n",
       "    </tr>\n",
       "    <tr>\n",
       "      <th>5268</th>\n",
       "      <td>ham</td>\n",
       "      <td>\\ER</td>\n",
       "      <td>ENJOYIN INDIANS AT THE MO..yeP. SaLL gOoD Heh...</td>\n",
       "      <td>NaN</td>\n",
       "      <td>NaN</td>\n",
       "    </tr>\n",
       "  </tbody>\n",
       "</table>\n",
       "</div>"
      ],
      "text/plain": [
       "        v1                                                 v2  \\\n",
       "95    spam  Your free ringtone is waiting to be collected....   \n",
       "281    ham                                \\Wen u miss someone   \n",
       "444    ham  \\HEY HEY WERETHE MONKEESPEOPLE SAY WE MONKEYAR...   \n",
       "671   spam         SMS. ac sun0819 posts HELLO:\\You seem cool   \n",
       "710    ham  Height of Confidence: All the Aeronautics prof...   \n",
       "899   spam  Your free ringtone is waiting to be collected....   \n",
       "1038   ham  Edison has rightly said, \\A fool can ask more ...   \n",
       "1127   ham  Height of \\Oh shit....!!\\\" situation: A guy th...   \n",
       "1266   ham    \\Hey sorry I didntgive ya a a bellearlier hunny   \n",
       "1384   ham  Storming msg: Wen u lift d phne, u say \\HELLO\\...   \n",
       "1428   ham  Tell you what, if you make a little spreadshee...   \n",
       "1559   ham  Single line with a big meaning::::: \\Miss anyt...   \n",
       "1637  spam  0A$NETWORKS allow companies to bill for SMS, s...   \n",
       "1669   ham  Very hurting n meaningful lines ever: \\I compr...   \n",
       "1675   ham  Painful words- \\I thought being Happy was the ...   \n",
       "1936   ham      My planning usually stops at \\find hella weed   \n",
       "1937   ham  The fact that you're cleaning shows you know w...   \n",
       "1997   ham                    \\YEH I AM DEF UP4 SOMETHING SAT   \n",
       "2087   ham                                      \\alright babe   \n",
       "2170   ham  \\CAN I PLEASE COME UP NOW IMIN TOWN.DONTMATTER...   \n",
       "2235   ham  \\Si.como no?!listened2the plaid album-quite gd...   \n",
       "2255   ham      I just lov this line: \\Hurt me with the truth   \n",
       "2406   ham  One of best dialogue in cute reltnship..!! \\We...   \n",
       "2791   ham  Û_ we r stayin here an extra week, back next ...   \n",
       "2970   ham  Height of Confidence: All the Aeronautics prof...   \n",
       "3110   ham               Short But Cute : \\ Be a good person    \n",
       "3145   ham               \\SHIT BABE.. THASA BIT MESSED UP.YEH   \n",
       "3239   ham  A cute thought for friendship: \\Its not necess...   \n",
       "3506   ham               Two fundamentals of cool life: \\Walk   \n",
       "3525   ham  \\HEY BABE! FAR 2 SPUN-OUT 2 SPK AT DA MO... DE...   \n",
       "3547   ham  Single line with a big meaning::::: \\Miss anyt...   \n",
       "3640  spam  You can stop further club tones by replying \\S...   \n",
       "3758   ham  GOD ASKED, \\What is forgiveness?\\\" A little ch...   \n",
       "3788   ham              Are you sure you don't mean \\get here   \n",
       "3793   ham                  Short But Cute: \\Be a good person   \n",
       "3881   ham                  Short But Cute: \\Be a good person   \n",
       "4130   ham  \\Its Ur luck to Love someone. Its Ur fortune t...   \n",
       "4224   ham  \\The world suffers a lot... Not because of the...   \n",
       "4454   ham  Storming msg: Wen u lift d phne, u say \\HELLO\\...   \n",
       "4455   ham  If you want to mapquest it or something look u...   \n",
       "4570   ham                 \\CHA QUITEAMUZING THATåÕSCOOL BABE   \n",
       "4601   ham                     \\Hey j! r u feeling any better   \n",
       "4668   ham  When I was born, GOD said, \\Oh No! Another IDI...   \n",
       "4859   ham  \\Response\\\" is one of d powerful weapon 2 occu...   \n",
       "4992   ham                                          \\HEY KATE   \n",
       "5048   ham  Edison has rightly said, \\A fool can ask more ...   \n",
       "5079   ham                      \\Keep ur problems in ur heart   \n",
       "5081   ham  \\HI BABE UAWAKE?FEELLIKW SHIT.JUSTFOUND OUT VI...   \n",
       "5264   ham  Storming msg: Wen u lift d phne, u say \\HELLO\\...   \n",
       "5268   ham                                                \\ER   \n",
       "\n",
       "                                             Unnamed: 2  \\\n",
       "95                                          PO Box 5249   \n",
       "281    the person is definitely special for u..... B...   \n",
       "444    HOWU DOIN? FOUNDURSELF A JOBYET SAUSAGE?LOVE ...   \n",
       "671    wanted to say hi. HI!!!\\\" Stop? Send STOP to ...   \n",
       "710     this wont even start........ Datz confidence..\"   \n",
       "899                                         PO Box 5249   \n",
       "1038                                                 GN   \n",
       "1127                                           .;-):-D\"   \n",
       "1266  just been in bedbut mite go 2 thepub l8tr if u...   \n",
       "1384   bt not his girlfrnd... G o o d n i g h t . . .@\"   \n",
       "1428                                      I'll come up\"   \n",
       "1559   don't miss ur best life for anything... Gud n...   \n",
       "1637   just as a shop has to give a guarantee on wha...   \n",
       "1669   But at d end my love compromised me for every...   \n",
       "1675   the toughest is acting Happy with all unspoke...   \n",
       "1936                                smoke hella weed\\\"\"   \n",
       "1937                     \\\" not \\\"what i need to do.\\\"\"   \n",
       "1997  JUST GOT PAYED2DAY & I HAVBEEN GIVEN Aå£50 PAY...   \n",
       "2087   justthought iåÕd sayhey! how u doin?nearly th...   \n",
       "2170  JUST REALLYNEED 2DOCD.PLEASE DONTPLEASE DONTIG...   \n",
       "2235                       u hav2hear it!c u sn xxxx\\\"\"   \n",
       "2255                                       I don't mind   \n",
       "2406   Dont Come Near My Body..!! Bcoz My Hands May ...   \n",
       "2791  Well there's still a bit left if you guys want...   \n",
       "2970    this wont even start........ Datz confidence..\"   \n",
       "3110         but dont try to prove\\\" ..... Gud mrng...\"   \n",
       "3145            SHE SHUDVETOLD U. DID URGRAN KNOW?NEWAY   \n",
       "3239         but watever u shared should be true\\\"....\"   \n",
       "3506   like you are the KING\\\"...! OR \\\"Walk like yo...   \n",
       "3525                                   HAD A COOL NYTHO   \n",
       "3547   don't miss ur best life for anything... Gud n...   \n",
       "3640                        PO Box 1146 MK45 2WT (2/3)\"   \n",
       "3758   \\\"It is d wonderful fruit that a tree gives w...   \n",
       "3788                   we made you hold all the weed\\\"\"   \n",
       "3793        but dont try to prove it..\\\" .Gud noon....\"   \n",
       "3881        but dont try to prove it..\\\" .Gud noon....\"   \n",
       "4130   its a miracle to Love a person who can't Love...   \n",
       "4224                                     Gud night....\"   \n",
       "4454   bt not his girlfrnd... G o o d n i g h t . . .@\"   \n",
       "4455   that's the tiny street where the parking lot is\"   \n",
       "4570  PROBPOP IN & CU SATTHEN HUNNY 4BREKKIE! LOVE J...   \n",
       "4601   hopeSo hunny. i amnow feelin ill & ithink i m...   \n",
       "4668                                           GOD said   \n",
       "4859   always give response 2 who cares 4 U\\\"... Gud...   \n",
       "4992   HOPE UR OK... WILL GIVE U A BUZ WEDLUNCH. GO ...   \n",
       "5048                                                 GN   \n",
       "5079   b'coz nobody will fight for u. Only u &amp; u...   \n",
       "5081                                DEVIOUSBITCH.ANYWAY   \n",
       "5264   bt not his girlfrnd... G o o d n i g h t . . .@\"   \n",
       "5268   ENJOYIN INDIANS AT THE MO..yeP. SaLL gOoD Heh...   \n",
       "\n",
       "                                      Unnamed: 3  \\\n",
       "95                          MK17 92H. 450Ppw 16\"   \n",
       "281                             why to miss them   \n",
       "444                                          NaN   \n",
       "671                                          NaN   \n",
       "710                                          NaN   \n",
       "899                         MK17 92H. 450Ppw 16\"   \n",
       "1038                                          GE   \n",
       "1127                                         NaN   \n",
       "1266                                         NaN   \n",
       "1384                                         NaN   \n",
       "1428                                         NaN   \n",
       "1559                                         NaN   \n",
       "1637                                         NaN   \n",
       "1669                                         NaN   \n",
       "1675                                         NaN   \n",
       "1936                                         NaN   \n",
       "1937                                         NaN   \n",
       "1997                                         NaN   \n",
       "2087                                         NaN   \n",
       "2170    U NO THECD ISV.IMPORTANT TOME 4 2MORO\\\"\"   \n",
       "2235                                         NaN   \n",
       "2255    i wil tolerat.bcs ur my someone..... But   \n",
       "2406                                         NaN   \n",
       "2791                                         NaN   \n",
       "2970                                         NaN   \n",
       "3110                                         NaN   \n",
       "3145   ILLSPEAK 2 U2MORO WEN IM NOT ASLEEP...\\\"\"   \n",
       "3239                                         NaN   \n",
       "3506          whoever is the KING\\\"!... Gud nyt\"   \n",
       "3525                              TX 4 FONIN HON   \n",
       "3547                                         NaN   \n",
       "3640                                         NaN   \n",
       "3758                                         NaN   \n",
       "3788                                         NaN   \n",
       "3793                                         NaN   \n",
       "3881                                         NaN   \n",
       "4130                                         NaN   \n",
       "4224                                         NaN   \n",
       "4454                                         NaN   \n",
       "4455                                         NaN   \n",
       "4570                                         NaN   \n",
       "4601                                         NaN   \n",
       "4668            \\\"OH No! COMPETITION\\\". Who knew   \n",
       "4859                                         NaN   \n",
       "4992                                         NaN   \n",
       "5048                                          GE   \n",
       "5079                                         NaN   \n",
       "5081                              IåÕL CALL U\\\"\"   \n",
       "5264                                         NaN   \n",
       "5268                                         NaN   \n",
       "\n",
       "                                             Unnamed: 4  \n",
       "95                                                  NaN  \n",
       "281                       just Keep-in-touch\\\" gdeve..\"  \n",
       "444                                                 NaN  \n",
       "671                                                 NaN  \n",
       "710                                                 NaN  \n",
       "899                                                 NaN  \n",
       "1038                                            GNT:-)\"  \n",
       "1127                                                NaN  \n",
       "1266                                                NaN  \n",
       "1384                                                NaN  \n",
       "1428                                                NaN  \n",
       "1559                                                NaN  \n",
       "1637                                                NaN  \n",
       "1669                                                NaN  \n",
       "1675                                                NaN  \n",
       "1936                                                NaN  \n",
       "1937                                                NaN  \n",
       "1997                                                NaN  \n",
       "2087                                                NaN  \n",
       "2170                                                NaN  \n",
       "2235                                                NaN  \n",
       "2255   Never comfort me with a lie\\\" gud ni8 and swe...  \n",
       "2406                                                NaN  \n",
       "2791                                                NaN  \n",
       "2970                                                NaN  \n",
       "3110                                                NaN  \n",
       "3145                                                NaN  \n",
       "3239                                                NaN  \n",
       "3506                                                NaN  \n",
       "3525                CALL 2MWEN IM BK FRMCLOUD 9! J X\\\"\"  \n",
       "3547                                                NaN  \n",
       "3640                                                NaN  \n",
       "3758                                                NaN  \n",
       "3788                                                NaN  \n",
       "3793                                                NaN  \n",
       "3881                                                NaN  \n",
       "4130                                                NaN  \n",
       "4224                                                NaN  \n",
       "4454                                                NaN  \n",
       "4455                                                NaN  \n",
       "4570                                                NaN  \n",
       "4601                                                NaN  \n",
       "4668    one day these two will become FREINDS FOREVER!\"  \n",
       "4859                                                NaN  \n",
       "4992                                                NaN  \n",
       "5048                                            GNT:-)\"  \n",
       "5079                                                NaN  \n",
       "5081                                                NaN  \n",
       "5264                                                NaN  \n",
       "5268                                                NaN  "
      ]
     },
     "execution_count": 4,
     "metadata": {},
     "output_type": "execute_result"
    }
   ],
   "source": [
    "df[df['Unnamed: 2'].notna()]"
   ]
  },
  {
   "cell_type": "code",
   "execution_count": 5,
   "metadata": {},
   "outputs": [
    {
     "data": {
      "text/html": [
       "<div>\n",
       "<style scoped>\n",
       "    .dataframe tbody tr th:only-of-type {\n",
       "        vertical-align: middle;\n",
       "    }\n",
       "\n",
       "    .dataframe tbody tr th {\n",
       "        vertical-align: top;\n",
       "    }\n",
       "\n",
       "    .dataframe thead th {\n",
       "        text-align: right;\n",
       "    }\n",
       "</style>\n",
       "<table border=\"1\" class=\"dataframe\">\n",
       "  <thead>\n",
       "    <tr style=\"text-align: right;\">\n",
       "      <th></th>\n",
       "      <th>v1</th>\n",
       "      <th>v2</th>\n",
       "      <th>Unnamed: 2</th>\n",
       "      <th>Unnamed: 3</th>\n",
       "      <th>Unnamed: 4</th>\n",
       "    </tr>\n",
       "  </thead>\n",
       "  <tbody>\n",
       "    <tr>\n",
       "      <th>5372</th>\n",
       "      <td>ham</td>\n",
       "      <td>Ok., is any problem to u frm him? Wats matter?</td>\n",
       "      <td>NaN</td>\n",
       "      <td>NaN</td>\n",
       "      <td>NaN</td>\n",
       "    </tr>\n",
       "    <tr>\n",
       "      <th>2871</th>\n",
       "      <td>ham</td>\n",
       "      <td>See you there!</td>\n",
       "      <td>NaN</td>\n",
       "      <td>NaN</td>\n",
       "      <td>NaN</td>\n",
       "    </tr>\n",
       "    <tr>\n",
       "      <th>3529</th>\n",
       "      <td>ham</td>\n",
       "      <td>Tyler (getting an 8th) has to leave not long a...</td>\n",
       "      <td>NaN</td>\n",
       "      <td>NaN</td>\n",
       "      <td>NaN</td>\n",
       "    </tr>\n",
       "    <tr>\n",
       "      <th>614</th>\n",
       "      <td>ham</td>\n",
       "      <td>I called and said all to him:)then he have to ...</td>\n",
       "      <td>NaN</td>\n",
       "      <td>NaN</td>\n",
       "      <td>NaN</td>\n",
       "    </tr>\n",
       "    <tr>\n",
       "      <th>5244</th>\n",
       "      <td>ham</td>\n",
       "      <td>thanks for the temales it was wonderful. Thank...</td>\n",
       "      <td>NaN</td>\n",
       "      <td>NaN</td>\n",
       "      <td>NaN</td>\n",
       "    </tr>\n",
       "  </tbody>\n",
       "</table>\n",
       "</div>"
      ],
      "text/plain": [
       "       v1                                                 v2 Unnamed: 2  \\\n",
       "5372  ham     Ok., is any problem to u frm him? Wats matter?        NaN   \n",
       "2871  ham                                    See you there!         NaN   \n",
       "3529  ham  Tyler (getting an 8th) has to leave not long a...        NaN   \n",
       "614   ham  I called and said all to him:)then he have to ...        NaN   \n",
       "5244  ham  thanks for the temales it was wonderful. Thank...        NaN   \n",
       "\n",
       "     Unnamed: 3 Unnamed: 4  \n",
       "5372        NaN        NaN  \n",
       "2871        NaN        NaN  \n",
       "3529        NaN        NaN  \n",
       "614         NaN        NaN  \n",
       "5244        NaN        NaN  "
      ]
     },
     "execution_count": 5,
     "metadata": {},
     "output_type": "execute_result"
    }
   ],
   "source": [
    "df.sample(5)"
   ]
  },
  {
   "cell_type": "code",
   "execution_count": 6,
   "metadata": {},
   "outputs": [
    {
     "data": {
      "text/plain": [
       "50"
      ]
     },
     "execution_count": 6,
     "metadata": {},
     "output_type": "execute_result"
    }
   ],
   "source": [
    "df['Unnamed: 2'].notnull().sum()"
   ]
  },
  {
   "cell_type": "code",
   "execution_count": 7,
   "metadata": {},
   "outputs": [
    {
     "data": {
      "text/plain": [
       "12"
      ]
     },
     "execution_count": 7,
     "metadata": {},
     "output_type": "execute_result"
    }
   ],
   "source": [
    "df['Unnamed: 3'].notnull().sum()"
   ]
  },
  {
   "cell_type": "code",
   "execution_count": 8,
   "metadata": {},
   "outputs": [
    {
     "data": {
      "text/plain": [
       "6"
      ]
     },
     "execution_count": 8,
     "metadata": {},
     "output_type": "execute_result"
    }
   ],
   "source": [
    "df['Unnamed: 4'].notnull().sum()"
   ]
  },
  {
   "cell_type": "code",
   "execution_count": 9,
   "metadata": {},
   "outputs": [],
   "source": [
    "# Dropping the Unnamed:2 , Unnamed:3 and Unnamed:4 columns\n",
    "df = df.drop(['Unnamed: 2','Unnamed: 3','Unnamed: 4'],axis=1)\n"
   ]
  },
  {
   "cell_type": "code",
   "execution_count": 10,
   "metadata": {},
   "outputs": [
    {
     "data": {
      "text/html": [
       "<div>\n",
       "<style scoped>\n",
       "    .dataframe tbody tr th:only-of-type {\n",
       "        vertical-align: middle;\n",
       "    }\n",
       "\n",
       "    .dataframe tbody tr th {\n",
       "        vertical-align: top;\n",
       "    }\n",
       "\n",
       "    .dataframe thead th {\n",
       "        text-align: right;\n",
       "    }\n",
       "</style>\n",
       "<table border=\"1\" class=\"dataframe\">\n",
       "  <thead>\n",
       "    <tr style=\"text-align: right;\">\n",
       "      <th></th>\n",
       "      <th>v1</th>\n",
       "      <th>v2</th>\n",
       "    </tr>\n",
       "  </thead>\n",
       "  <tbody>\n",
       "    <tr>\n",
       "      <th>5132</th>\n",
       "      <td>ham</td>\n",
       "      <td>it's still not working. And this time i also t...</td>\n",
       "    </tr>\n",
       "    <tr>\n",
       "      <th>1449</th>\n",
       "      <td>ham</td>\n",
       "      <td>say thanks2.</td>\n",
       "    </tr>\n",
       "    <tr>\n",
       "      <th>40</th>\n",
       "      <td>ham</td>\n",
       "      <td>Pls go ahead with watts. I just wanted to be s...</td>\n",
       "    </tr>\n",
       "    <tr>\n",
       "      <th>4068</th>\n",
       "      <td>ham</td>\n",
       "      <td>Hope youåÕre not having too much fun without m...</td>\n",
       "    </tr>\n",
       "    <tr>\n",
       "      <th>2412</th>\n",
       "      <td>spam</td>\n",
       "      <td>I don't know u and u don't know me. Send CHAT ...</td>\n",
       "    </tr>\n",
       "  </tbody>\n",
       "</table>\n",
       "</div>"
      ],
      "text/plain": [
       "        v1                                                 v2\n",
       "5132   ham  it's still not working. And this time i also t...\n",
       "1449   ham                                      say thanks2. \n",
       "40     ham  Pls go ahead with watts. I just wanted to be s...\n",
       "4068   ham  Hope youåÕre not having too much fun without m...\n",
       "2412  spam  I don't know u and u don't know me. Send CHAT ..."
      ]
     },
     "execution_count": 10,
     "metadata": {},
     "output_type": "execute_result"
    }
   ],
   "source": [
    "df.sample(5)"
   ]
  },
  {
   "cell_type": "code",
   "execution_count": 11,
   "metadata": {},
   "outputs": [
    {
     "data": {
      "text/plain": [
       "v1    0\n",
       "v2    0\n",
       "dtype: int64"
      ]
     },
     "execution_count": 11,
     "metadata": {},
     "output_type": "execute_result"
    }
   ],
   "source": [
    "df.isna().sum()"
   ]
  },
  {
   "cell_type": "code",
   "execution_count": 12,
   "metadata": {},
   "outputs": [],
   "source": [
    "df = df.dropna()"
   ]
  },
  {
   "cell_type": "markdown",
   "metadata": {},
   "source": [
    "# CHECKING FOR DUPLICATE ROWS"
   ]
  },
  {
   "cell_type": "code",
   "execution_count": 13,
   "metadata": {},
   "outputs": [
    {
     "data": {
      "text/plain": [
       "403"
      ]
     },
     "execution_count": 13,
     "metadata": {},
     "output_type": "execute_result"
    }
   ],
   "source": [
    "df.duplicated().sum()"
   ]
  },
  {
   "cell_type": "code",
   "execution_count": 14,
   "metadata": {},
   "outputs": [],
   "source": [
    "df = df.drop_duplicates(keep='first')"
   ]
  },
  {
   "cell_type": "code",
   "execution_count": 15,
   "metadata": {},
   "outputs": [
    {
     "data": {
      "text/plain": [
       "0"
      ]
     },
     "execution_count": 15,
     "metadata": {},
     "output_type": "execute_result"
    }
   ],
   "source": [
    "df.duplicated().sum()"
   ]
  },
  {
   "cell_type": "code",
   "execution_count": 16,
   "metadata": {},
   "outputs": [],
   "source": [
    "# RENAMING COLUMNS\n",
    "df = df.rename(columns = {'v1':'output','v2':'text'})"
   ]
  },
  {
   "cell_type": "code",
   "execution_count": 17,
   "metadata": {},
   "outputs": [
    {
     "data": {
      "text/html": [
       "<div>\n",
       "<style scoped>\n",
       "    .dataframe tbody tr th:only-of-type {\n",
       "        vertical-align: middle;\n",
       "    }\n",
       "\n",
       "    .dataframe tbody tr th {\n",
       "        vertical-align: top;\n",
       "    }\n",
       "\n",
       "    .dataframe thead th {\n",
       "        text-align: right;\n",
       "    }\n",
       "</style>\n",
       "<table border=\"1\" class=\"dataframe\">\n",
       "  <thead>\n",
       "    <tr style=\"text-align: right;\">\n",
       "      <th></th>\n",
       "      <th>output</th>\n",
       "      <th>text</th>\n",
       "    </tr>\n",
       "  </thead>\n",
       "  <tbody>\n",
       "    <tr>\n",
       "      <th>0</th>\n",
       "      <td>ham</td>\n",
       "      <td>Go until jurong point, crazy.. Available only ...</td>\n",
       "    </tr>\n",
       "    <tr>\n",
       "      <th>1</th>\n",
       "      <td>ham</td>\n",
       "      <td>Ok lar... Joking wif u oni...</td>\n",
       "    </tr>\n",
       "    <tr>\n",
       "      <th>2</th>\n",
       "      <td>spam</td>\n",
       "      <td>Free entry in 2 a wkly comp to win FA Cup fina...</td>\n",
       "    </tr>\n",
       "    <tr>\n",
       "      <th>3</th>\n",
       "      <td>ham</td>\n",
       "      <td>U dun say so early hor... U c already then say...</td>\n",
       "    </tr>\n",
       "    <tr>\n",
       "      <th>4</th>\n",
       "      <td>ham</td>\n",
       "      <td>Nah I don't think he goes to usf, he lives aro...</td>\n",
       "    </tr>\n",
       "  </tbody>\n",
       "</table>\n",
       "</div>"
      ],
      "text/plain": [
       "  output                                               text\n",
       "0    ham  Go until jurong point, crazy.. Available only ...\n",
       "1    ham                      Ok lar... Joking wif u oni...\n",
       "2   spam  Free entry in 2 a wkly comp to win FA Cup fina...\n",
       "3    ham  U dun say so early hor... U c already then say...\n",
       "4    ham  Nah I don't think he goes to usf, he lives aro..."
      ]
     },
     "execution_count": 17,
     "metadata": {},
     "output_type": "execute_result"
    }
   ],
   "source": [
    "df.head()"
   ]
  },
  {
   "cell_type": "code",
   "execution_count": 18,
   "metadata": {},
   "outputs": [
    {
     "data": {
      "text/plain": [
       "array(['ham', 'spam'], dtype=object)"
      ]
     },
     "execution_count": 18,
     "metadata": {},
     "output_type": "execute_result"
    }
   ],
   "source": [
    "# LABEL ENCODING\n",
    "unique = df['output'].unique()\n",
    "unique"
   ]
  },
  {
   "cell_type": "code",
   "execution_count": 19,
   "metadata": {},
   "outputs": [
    {
     "data": {
      "text/html": [
       "<div>\n",
       "<style scoped>\n",
       "    .dataframe tbody tr th:only-of-type {\n",
       "        vertical-align: middle;\n",
       "    }\n",
       "\n",
       "    .dataframe tbody tr th {\n",
       "        vertical-align: top;\n",
       "    }\n",
       "\n",
       "    .dataframe thead th {\n",
       "        text-align: right;\n",
       "    }\n",
       "</style>\n",
       "<table border=\"1\" class=\"dataframe\">\n",
       "  <thead>\n",
       "    <tr style=\"text-align: right;\">\n",
       "      <th></th>\n",
       "      <th>output</th>\n",
       "      <th>text</th>\n",
       "    </tr>\n",
       "  </thead>\n",
       "  <tbody>\n",
       "    <tr>\n",
       "      <th>0</th>\n",
       "      <td>0</td>\n",
       "      <td>Go until jurong point, crazy.. Available only ...</td>\n",
       "    </tr>\n",
       "    <tr>\n",
       "      <th>1</th>\n",
       "      <td>0</td>\n",
       "      <td>Ok lar... Joking wif u oni...</td>\n",
       "    </tr>\n",
       "    <tr>\n",
       "      <th>2</th>\n",
       "      <td>1</td>\n",
       "      <td>Free entry in 2 a wkly comp to win FA Cup fina...</td>\n",
       "    </tr>\n",
       "    <tr>\n",
       "      <th>3</th>\n",
       "      <td>0</td>\n",
       "      <td>U dun say so early hor... U c already then say...</td>\n",
       "    </tr>\n",
       "    <tr>\n",
       "      <th>4</th>\n",
       "      <td>0</td>\n",
       "      <td>Nah I don't think he goes to usf, he lives aro...</td>\n",
       "    </tr>\n",
       "  </tbody>\n",
       "</table>\n",
       "</div>"
      ],
      "text/plain": [
       "   output                                               text\n",
       "0       0  Go until jurong point, crazy.. Available only ...\n",
       "1       0                      Ok lar... Joking wif u oni...\n",
       "2       1  Free entry in 2 a wkly comp to win FA Cup fina...\n",
       "3       0  U dun say so early hor... U c already then say...\n",
       "4       0  Nah I don't think he goes to usf, he lives aro..."
      ]
     },
     "execution_count": 19,
     "metadata": {},
     "output_type": "execute_result"
    }
   ],
   "source": [
    "from sklearn.preprocessing import LabelEncoder\n",
    "encoder = LabelEncoder()\n",
    "df['output'] = encoder.fit_transform(df['output'])\n",
    "df.head()"
   ]
  },
  {
   "cell_type": "code",
   "execution_count": 20,
   "metadata": {},
   "outputs": [
    {
     "data": {
      "text/html": [
       "<div>\n",
       "<style scoped>\n",
       "    .dataframe tbody tr th:only-of-type {\n",
       "        vertical-align: middle;\n",
       "    }\n",
       "\n",
       "    .dataframe tbody tr th {\n",
       "        vertical-align: top;\n",
       "    }\n",
       "\n",
       "    .dataframe thead th {\n",
       "        text-align: right;\n",
       "    }\n",
       "</style>\n",
       "<table border=\"1\" class=\"dataframe\">\n",
       "  <thead>\n",
       "    <tr style=\"text-align: right;\">\n",
       "      <th></th>\n",
       "      <th>output</th>\n",
       "      <th>text</th>\n",
       "    </tr>\n",
       "  </thead>\n",
       "  <tbody>\n",
       "    <tr>\n",
       "      <th>0</th>\n",
       "      <td>0</td>\n",
       "      <td>Go until jurong point, crazy.. Available only ...</td>\n",
       "    </tr>\n",
       "    <tr>\n",
       "      <th>1</th>\n",
       "      <td>0</td>\n",
       "      <td>Ok lar... Joking wif u oni...</td>\n",
       "    </tr>\n",
       "    <tr>\n",
       "      <th>2</th>\n",
       "      <td>1</td>\n",
       "      <td>Free entry in 2 a wkly comp to win FA Cup fina...</td>\n",
       "    </tr>\n",
       "    <tr>\n",
       "      <th>3</th>\n",
       "      <td>0</td>\n",
       "      <td>U dun say so early hor... U c already then say...</td>\n",
       "    </tr>\n",
       "    <tr>\n",
       "      <th>4</th>\n",
       "      <td>0</td>\n",
       "      <td>Nah I don't think he goes to usf, he lives aro...</td>\n",
       "    </tr>\n",
       "    <tr>\n",
       "      <th>...</th>\n",
       "      <td>...</td>\n",
       "      <td>...</td>\n",
       "    </tr>\n",
       "    <tr>\n",
       "      <th>5164</th>\n",
       "      <td>1</td>\n",
       "      <td>This is the 2nd time we have tried 2 contact u...</td>\n",
       "    </tr>\n",
       "    <tr>\n",
       "      <th>5165</th>\n",
       "      <td>0</td>\n",
       "      <td>Will Ì_ b going to esplanade fr home?</td>\n",
       "    </tr>\n",
       "    <tr>\n",
       "      <th>5166</th>\n",
       "      <td>0</td>\n",
       "      <td>Pity, * was in mood for that. So...any other s...</td>\n",
       "    </tr>\n",
       "    <tr>\n",
       "      <th>5167</th>\n",
       "      <td>0</td>\n",
       "      <td>The guy did some bitching but I acted like i'd...</td>\n",
       "    </tr>\n",
       "    <tr>\n",
       "      <th>5168</th>\n",
       "      <td>0</td>\n",
       "      <td>Rofl. Its true to its name</td>\n",
       "    </tr>\n",
       "  </tbody>\n",
       "</table>\n",
       "<p>5169 rows × 2 columns</p>\n",
       "</div>"
      ],
      "text/plain": [
       "      output                                               text\n",
       "0          0  Go until jurong point, crazy.. Available only ...\n",
       "1          0                      Ok lar... Joking wif u oni...\n",
       "2          1  Free entry in 2 a wkly comp to win FA Cup fina...\n",
       "3          0  U dun say so early hor... U c already then say...\n",
       "4          0  Nah I don't think he goes to usf, he lives aro...\n",
       "...      ...                                                ...\n",
       "5164       1  This is the 2nd time we have tried 2 contact u...\n",
       "5165       0              Will Ì_ b going to esplanade fr home?\n",
       "5166       0  Pity, * was in mood for that. So...any other s...\n",
       "5167       0  The guy did some bitching but I acted like i'd...\n",
       "5168       0                         Rofl. Its true to its name\n",
       "\n",
       "[5169 rows x 2 columns]"
      ]
     },
     "execution_count": 20,
     "metadata": {},
     "output_type": "execute_result"
    }
   ],
   "source": [
    "df = df.reset_index(drop=True)\n",
    "new_df = df.copy()\n",
    "new_df"
   ]
  },
  {
   "cell_type": "markdown",
   "metadata": {},
   "source": [
    "# ANALYSIS"
   ]
  },
  {
   "cell_type": "markdown",
   "metadata": {},
   "source": [
    "### HAM VS SPAM"
   ]
  },
  {
   "cell_type": "code",
   "execution_count": 21,
   "metadata": {},
   "outputs": [
    {
     "data": {
      "text/plain": [
       "([<matplotlib.patches.Wedge at 0x1d49993f820>,\n",
       "  <matplotlib.patches.Wedge at 0x1d49993feb0>],\n",
       " [Text(-1.0144997251399075, 0.4251944351600247, 'ham'),\n",
       "  Text(1.014499764949479, -0.4251943401757036, 'spam')],\n",
       " [Text(-0.5533634864399495, 0.23192423736001344, '87.37'),\n",
       "  Text(0.5533635081542612, -0.23192418555038377, '12.63')])"
      ]
     },
     "execution_count": 21,
     "metadata": {},
     "output_type": "execute_result"
    },
    {
     "data": {
      "image/png": "[encoded data removed]",
      "text/plain": [
       "<Figure size 432x288 with 1 Axes>"
      ]
     },
     "metadata": {},
     "output_type": "display_data"
    }
   ],
   "source": [
    "hams = new_df[new_df['output']==0].shape[0]\n",
    "\n",
    "fig = plt.figure()\n",
    "plt.pie([hams,new_df.shape[0]-hams], labels = ['ham','spam'],colors=['green','red'],autopct=\"%0.2f\")\n",
    "\n",
    "# THERE IS DATA IMBALANCE"
   ]
  },
  {
   "cell_type": "markdown",
   "metadata": {},
   "source": [
    "### SPECIAL CHARACTERS"
   ]
  },
  {
   "cell_type": "code",
   "execution_count": 22,
   "metadata": {},
   "outputs": [],
   "source": [
    "from string import punctuation\n",
    "punctuation = set(punctuation)"
   ]
  },
  {
   "cell_type": "code",
   "execution_count": 23,
   "metadata": {},
   "outputs": [
    {
     "data": {
      "text/plain": [
       "{'!',\n",
       " '\"',\n",
       " '#',\n",
       " '$',\n",
       " '%',\n",
       " '&',\n",
       " \"'\",\n",
       " '(',\n",
       " ')',\n",
       " '*',\n",
       " '+',\n",
       " ',',\n",
       " '-',\n",
       " '.',\n",
       " '/',\n",
       " ':',\n",
       " ';',\n",
       " '<',\n",
       " '=',\n",
       " '>',\n",
       " '?',\n",
       " '@',\n",
       " '[',\n",
       " '\\\\',\n",
       " ']',\n",
       " '^',\n",
       " '_',\n",
       " '`',\n",
       " '{',\n",
       " '|',\n",
       " '}',\n",
       " '~'}"
      ]
     },
     "execution_count": 23,
     "metadata": {},
     "output_type": "execute_result"
    }
   ],
   "source": [
    "punctuation"
   ]
  },
  {
   "cell_type": "code",
   "execution_count": 24,
   "metadata": {},
   "outputs": [
    {
     "name": "stdout",
     "output_type": "stream",
     "text": [
      "[]\n"
     ]
    }
   ],
   "source": [
    "errors = []\n",
    "special_chars = []\n",
    "for i in range(len(new_df['text'])):\n",
    "    ans = 0\n",
    "    try:\n",
    "        for j in new_df['text'][i]:\n",
    "            if j in punctuation:\n",
    "                ans = ans+1\n",
    "    except:\n",
    "        errors.append(i) \n",
    "    special_chars.append(ans)\n",
    "\n",
    "new_df['special_chars'] = special_chars\n",
    "print(errors)"
   ]
  },
  {
   "cell_type": "code",
   "execution_count": 25,
   "metadata": {},
   "outputs": [
    {
     "name": "stdout",
     "output_type": "stream",
     "text": [
      "102    wow. You're right! I didn't mean to do that. I...\n",
      "Name: text, dtype: object\n"
     ]
    }
   ],
   "source": [
    "print(new_df.iloc[[102]]['text'])"
   ]
  },
  {
   "cell_type": "code",
   "execution_count": 26,
   "metadata": {},
   "outputs": [
    {
     "data": {
      "text/plain": [
       "<AxesSubplot: xlabel='special_chars', ylabel='Count'>"
      ]
     },
     "execution_count": 26,
     "metadata": {},
     "output_type": "execute_result"
    },
    {
     "data": {
      "image/png": "[encoded data removed]",
      "text/plain": [
       "<Figure size 864x432 with 1 Axes>"
      ]
     },
     "metadata": {
      "needs_background": "light"
     },
     "output_type": "display_data"
    }
   ],
   "source": [
    "plt.figure(figsize=(12,6))\n",
    "sns.histplot(new_df[new_df['output'] == 0]['special_chars'],color='green')\n",
    "sns.histplot(new_df[new_df['output'] == 1]['special_chars'],color='red')"
   ]
  },
  {
   "cell_type": "code",
   "execution_count": 27,
   "metadata": {},
   "outputs": [
    {
     "name": "stderr",
     "output_type": "stream",
     "text": [
      "<ipython-input-27-8183dbd46774>:4: SettingWithCopyWarning: \n",
      "A value is trying to be set on a copy of a slice from a DataFrame\n",
      "\n",
      "See the caveats in the documentation: https://pandas.pydata.org/pandas-docs/stable/user_guide/indexing.html#returning-a-view-versus-a-copy\n",
      "  new_df['text'][i] = re.sub(r\"[-()\\\"#/@;:<>{}`+=~|.!?,]\", \"\", new_df['text'][i])\n"
     ]
    }
   ],
   "source": [
    "# REMOVING ALL SPECIAL CHARACTERS\n",
    "import re\n",
    "for i in range(len(new_df)):\n",
    "    new_df['text'][i] = re.sub(r\"[-()\\\"#/@;:<>{}`+=~|.!?,]\", \"\", new_df['text'][i])"
   ]
  },
  {
   "cell_type": "code",
   "execution_count": 28,
   "metadata": {},
   "outputs": [
    {
     "data": {
      "text/plain": [
       "'Go until jurong point crazy Available only in bugis n great world la e buffet Cine there got amore wat'"
      ]
     },
     "execution_count": 28,
     "metadata": {},
     "output_type": "execute_result"
    }
   ],
   "source": [
    "new_df['text'][0]"
   ]
  },
  {
   "cell_type": "markdown",
   "metadata": {},
   "source": [
    "### DIGITS"
   ]
  },
  {
   "cell_type": "code",
   "execution_count": 29,
   "metadata": {},
   "outputs": [],
   "source": [
    "digits = []\n",
    "for i in range(len(new_df['text'])):\n",
    "    ans = 0\n",
    "    for j in new_df['text'][i]:        \n",
    "        if j in ['1','2','3','4','5','6','7','8','9','0']:\n",
    "            ans = ans+1\n",
    "    digits.append(ans)\n",
    "    \n",
    "new_df['digits'] = digits"
   ]
  },
  {
   "cell_type": "code",
   "execution_count": 30,
   "metadata": {},
   "outputs": [
    {
     "data": {
      "text/plain": [
       "<AxesSubplot: xlabel='digits', ylabel='Count'>"
      ]
     },
     "execution_count": 30,
     "metadata": {},
     "output_type": "execute_result"
    },
    {
     "data": {
      "image/png": "[encoded data removed]",
      "text/plain": [
       "<Figure size 864x432 with 1 Axes>"
      ]
     },
     "metadata": {
      "needs_background": "light"
     },
     "output_type": "display_data"
    }
   ],
   "source": [
    "plt.figure(figsize=(12,6))\n",
    "sns.histplot(new_df[new_df['output'] == 0]['digits'],color='green')\n",
    "sns.histplot(new_df[new_df['output'] == 1]['digits'],color='red')"
   ]
  },
  {
   "cell_type": "code",
   "execution_count": 31,
   "metadata": {},
   "outputs": [
    {
     "name": "stderr",
     "output_type": "stream",
     "text": [
      "<ipython-input-31-b1e0ea43aeeb>:4: SettingWithCopyWarning: \n",
      "A value is trying to be set on a copy of a slice from a DataFrame\n",
      "\n",
      "See the caveats in the documentation: https://pandas.pydata.org/pandas-docs/stable/user_guide/indexing.html#returning-a-view-versus-a-copy\n",
      "  new_df['text'][i] = re.sub('[0-9]',\"\",new_df['text'][i])\n"
     ]
    },
    {
     "data": {
      "text/html": [
       "<div>\n",
       "<style scoped>\n",
       "    .dataframe tbody tr th:only-of-type {\n",
       "        vertical-align: middle;\n",
       "    }\n",
       "\n",
       "    .dataframe tbody tr th {\n",
       "        vertical-align: top;\n",
       "    }\n",
       "\n",
       "    .dataframe thead th {\n",
       "        text-align: right;\n",
       "    }\n",
       "</style>\n",
       "<table border=\"1\" class=\"dataframe\">\n",
       "  <thead>\n",
       "    <tr style=\"text-align: right;\">\n",
       "      <th></th>\n",
       "      <th>output</th>\n",
       "      <th>text</th>\n",
       "      <th>special_chars</th>\n",
       "      <th>digits</th>\n",
       "    </tr>\n",
       "  </thead>\n",
       "  <tbody>\n",
       "    <tr>\n",
       "      <th>0</th>\n",
       "      <td>0</td>\n",
       "      <td>Go until jurong point crazy Available only in ...</td>\n",
       "      <td>9</td>\n",
       "      <td>0</td>\n",
       "    </tr>\n",
       "    <tr>\n",
       "      <th>1</th>\n",
       "      <td>0</td>\n",
       "      <td>Ok lar Joking wif u oni</td>\n",
       "      <td>6</td>\n",
       "      <td>0</td>\n",
       "    </tr>\n",
       "    <tr>\n",
       "      <th>2</th>\n",
       "      <td>1</td>\n",
       "      <td>Free entry in  a wkly comp to win FA Cup final...</td>\n",
       "      <td>6</td>\n",
       "      <td>25</td>\n",
       "    </tr>\n",
       "    <tr>\n",
       "      <th>3</th>\n",
       "      <td>0</td>\n",
       "      <td>U dun say so early hor U c already then say</td>\n",
       "      <td>6</td>\n",
       "      <td>0</td>\n",
       "    </tr>\n",
       "    <tr>\n",
       "      <th>4</th>\n",
       "      <td>0</td>\n",
       "      <td>Nah I don't think he goes to usf he lives arou...</td>\n",
       "      <td>2</td>\n",
       "      <td>0</td>\n",
       "    </tr>\n",
       "    <tr>\n",
       "      <th>...</th>\n",
       "      <td>...</td>\n",
       "      <td>...</td>\n",
       "      <td>...</td>\n",
       "      <td>...</td>\n",
       "    </tr>\n",
       "    <tr>\n",
       "      <th>5164</th>\n",
       "      <td>1</td>\n",
       "      <td>This is the nd time we have tried  contact u U...</td>\n",
       "      <td>8</td>\n",
       "      <td>21</td>\n",
       "    </tr>\n",
       "    <tr>\n",
       "      <th>5165</th>\n",
       "      <td>0</td>\n",
       "      <td>Will Ì_ b going to esplanade fr home</td>\n",
       "      <td>2</td>\n",
       "      <td>0</td>\n",
       "    </tr>\n",
       "    <tr>\n",
       "      <th>5166</th>\n",
       "      <td>0</td>\n",
       "      <td>Pity * was in mood for that Soany other sugges...</td>\n",
       "      <td>7</td>\n",
       "      <td>0</td>\n",
       "    </tr>\n",
       "    <tr>\n",
       "      <th>5167</th>\n",
       "      <td>0</td>\n",
       "      <td>The guy did some bitching but I acted like i'd...</td>\n",
       "      <td>1</td>\n",
       "      <td>0</td>\n",
       "    </tr>\n",
       "    <tr>\n",
       "      <th>5168</th>\n",
       "      <td>0</td>\n",
       "      <td>Rofl Its true to its name</td>\n",
       "      <td>1</td>\n",
       "      <td>0</td>\n",
       "    </tr>\n",
       "  </tbody>\n",
       "</table>\n",
       "<p>5169 rows × 4 columns</p>\n",
       "</div>"
      ],
      "text/plain": [
       "      output                                               text  \\\n",
       "0          0  Go until jurong point crazy Available only in ...   \n",
       "1          0                            Ok lar Joking wif u oni   \n",
       "2          1  Free entry in  a wkly comp to win FA Cup final...   \n",
       "3          0        U dun say so early hor U c already then say   \n",
       "4          0  Nah I don't think he goes to usf he lives arou...   \n",
       "...      ...                                                ...   \n",
       "5164       1  This is the nd time we have tried  contact u U...   \n",
       "5165       0               Will Ì_ b going to esplanade fr home   \n",
       "5166       0  Pity * was in mood for that Soany other sugges...   \n",
       "5167       0  The guy did some bitching but I acted like i'd...   \n",
       "5168       0                          Rofl Its true to its name   \n",
       "\n",
       "      special_chars  digits  \n",
       "0                 9       0  \n",
       "1                 6       0  \n",
       "2                 6      25  \n",
       "3                 6       0  \n",
       "4                 2       0  \n",
       "...             ...     ...  \n",
       "5164              8      21  \n",
       "5165              2       0  \n",
       "5166              7       0  \n",
       "5167              1       0  \n",
       "5168              1       0  \n",
       "\n",
       "[5169 rows x 4 columns]"
      ]
     },
     "execution_count": 31,
     "metadata": {},
     "output_type": "execute_result"
    }
   ],
   "source": [
    "# REMOVING ALL THE DIGITS\n",
    "import re\n",
    "for i in range(len(new_df['text'])):\n",
    "    new_df['text'][i] = re.sub('[0-9]',\"\",new_df['text'][i])\n",
    "new_df"
   ]
  },
  {
   "cell_type": "markdown",
   "metadata": {},
   "source": [
    "### CHARACTERS"
   ]
  },
  {
   "cell_type": "code",
   "execution_count": 32,
   "metadata": {},
   "outputs": [],
   "source": [
    "chars = []\n",
    "for i in range(len(new_df['text'])):\n",
    "    chars.append(len(new_df['text'][i]))\n",
    "    \n",
    "new_df['characters'] = chars"
   ]
  },
  {
   "cell_type": "code",
   "execution_count": 33,
   "metadata": {},
   "outputs": [
    {
     "data": {
      "text/plain": [
       "<AxesSubplot: xlabel='characters', ylabel='Count'>"
      ]
     },
     "execution_count": 33,
     "metadata": {},
     "output_type": "execute_result"
    },
    {
     "data": {
      "image/png": "[encoded data removed]",
      "text/plain": [
       "<Figure size 864x432 with 1 Axes>"
      ]
     },
     "metadata": {
      "needs_background": "light"
     },
     "output_type": "display_data"
    }
   ],
   "source": [
    "plt.figure(figsize=(12,6))\n",
    "sns.histplot(new_df[new_df['output'] == 0]['characters'],color='green')\n",
    "sns.histplot(new_df[new_df['output'] == 1]['characters'],color='red')"
   ]
  },
  {
   "cell_type": "markdown",
   "metadata": {},
   "source": [
    "### SENTENCES AND WORDS"
   ]
  },
  {
   "cell_type": "code",
   "execution_count": 34,
   "metadata": {},
   "outputs": [],
   "source": [
    "#number of sentences \n",
    "new_df['num_sent'] = new_df['text'].apply(lambda x:len(nltk.sent_tokenize(x)))\n",
    "new_df['num_words'] = new_df['text'].apply(lambda x:len(nltk.word_tokenize(x)))"
   ]
  },
  {
   "cell_type": "code",
   "execution_count": 35,
   "metadata": {},
   "outputs": [
    {
     "data": {
      "text/html": [
       "<div>\n",
       "<style scoped>\n",
       "    .dataframe tbody tr th:only-of-type {\n",
       "        vertical-align: middle;\n",
       "    }\n",
       "\n",
       "    .dataframe tbody tr th {\n",
       "        vertical-align: top;\n",
       "    }\n",
       "\n",
       "    .dataframe thead th {\n",
       "        text-align: right;\n",
       "    }\n",
       "</style>\n",
       "<table border=\"1\" class=\"dataframe\">\n",
       "  <thead>\n",
       "    <tr style=\"text-align: right;\">\n",
       "      <th></th>\n",
       "      <th>output</th>\n",
       "      <th>text</th>\n",
       "      <th>special_chars</th>\n",
       "      <th>digits</th>\n",
       "      <th>characters</th>\n",
       "      <th>num_sent</th>\n",
       "      <th>num_words</th>\n",
       "    </tr>\n",
       "  </thead>\n",
       "  <tbody>\n",
       "    <tr>\n",
       "      <th>0</th>\n",
       "      <td>0</td>\n",
       "      <td>Go until jurong point crazy Available only in ...</td>\n",
       "      <td>9</td>\n",
       "      <td>0</td>\n",
       "      <td>102</td>\n",
       "      <td>1</td>\n",
       "      <td>20</td>\n",
       "    </tr>\n",
       "    <tr>\n",
       "      <th>1</th>\n",
       "      <td>0</td>\n",
       "      <td>Ok lar Joking wif u oni</td>\n",
       "      <td>6</td>\n",
       "      <td>0</td>\n",
       "      <td>23</td>\n",
       "      <td>1</td>\n",
       "      <td>6</td>\n",
       "    </tr>\n",
       "    <tr>\n",
       "      <th>2</th>\n",
       "      <td>1</td>\n",
       "      <td>Free entry in  a wkly comp to win FA Cup final...</td>\n",
       "      <td>6</td>\n",
       "      <td>25</td>\n",
       "      <td>127</td>\n",
       "      <td>1</td>\n",
       "      <td>29</td>\n",
       "    </tr>\n",
       "    <tr>\n",
       "      <th>3</th>\n",
       "      <td>0</td>\n",
       "      <td>U dun say so early hor U c already then say</td>\n",
       "      <td>6</td>\n",
       "      <td>0</td>\n",
       "      <td>43</td>\n",
       "      <td>1</td>\n",
       "      <td>11</td>\n",
       "    </tr>\n",
       "    <tr>\n",
       "      <th>4</th>\n",
       "      <td>0</td>\n",
       "      <td>Nah I don't think he goes to usf he lives arou...</td>\n",
       "      <td>2</td>\n",
       "      <td>0</td>\n",
       "      <td>60</td>\n",
       "      <td>1</td>\n",
       "      <td>14</td>\n",
       "    </tr>\n",
       "    <tr>\n",
       "      <th>...</th>\n",
       "      <td>...</td>\n",
       "      <td>...</td>\n",
       "      <td>...</td>\n",
       "      <td>...</td>\n",
       "      <td>...</td>\n",
       "      <td>...</td>\n",
       "      <td>...</td>\n",
       "    </tr>\n",
       "    <tr>\n",
       "      <th>5164</th>\n",
       "      <td>1</td>\n",
       "      <td>This is the nd time we have tried  contact u U...</td>\n",
       "      <td>8</td>\n",
       "      <td>21</td>\n",
       "      <td>132</td>\n",
       "      <td>1</td>\n",
       "      <td>27</td>\n",
       "    </tr>\n",
       "    <tr>\n",
       "      <th>5165</th>\n",
       "      <td>0</td>\n",
       "      <td>Will Ì_ b going to esplanade fr home</td>\n",
       "      <td>2</td>\n",
       "      <td>0</td>\n",
       "      <td>36</td>\n",
       "      <td>1</td>\n",
       "      <td>8</td>\n",
       "    </tr>\n",
       "    <tr>\n",
       "      <th>5166</th>\n",
       "      <td>0</td>\n",
       "      <td>Pity * was in mood for that Soany other sugges...</td>\n",
       "      <td>7</td>\n",
       "      <td>0</td>\n",
       "      <td>51</td>\n",
       "      <td>1</td>\n",
       "      <td>10</td>\n",
       "    </tr>\n",
       "    <tr>\n",
       "      <th>5167</th>\n",
       "      <td>0</td>\n",
       "      <td>The guy did some bitching but I acted like i'd...</td>\n",
       "      <td>1</td>\n",
       "      <td>0</td>\n",
       "      <td>125</td>\n",
       "      <td>1</td>\n",
       "      <td>27</td>\n",
       "    </tr>\n",
       "    <tr>\n",
       "      <th>5168</th>\n",
       "      <td>0</td>\n",
       "      <td>Rofl Its true to its name</td>\n",
       "      <td>1</td>\n",
       "      <td>0</td>\n",
       "      <td>25</td>\n",
       "      <td>1</td>\n",
       "      <td>6</td>\n",
       "    </tr>\n",
       "  </tbody>\n",
       "</table>\n",
       "<p>5169 rows × 7 columns</p>\n",
       "</div>"
      ],
      "text/plain": [
       "      output                                               text  \\\n",
       "0          0  Go until jurong point crazy Available only in ...   \n",
       "1          0                            Ok lar Joking wif u oni   \n",
       "2          1  Free entry in  a wkly comp to win FA Cup final...   \n",
       "3          0        U dun say so early hor U c already then say   \n",
       "4          0  Nah I don't think he goes to usf he lives arou...   \n",
       "...      ...                                                ...   \n",
       "5164       1  This is the nd time we have tried  contact u U...   \n",
       "5165       0               Will Ì_ b going to esplanade fr home   \n",
       "5166       0  Pity * was in mood for that Soany other sugges...   \n",
       "5167       0  The guy did some bitching but I acted like i'd...   \n",
       "5168       0                          Rofl Its true to its name   \n",
       "\n",
       "      special_chars  digits  characters  num_sent  num_words  \n",
       "0                 9       0         102         1         20  \n",
       "1                 6       0          23         1          6  \n",
       "2                 6      25         127         1         29  \n",
       "3                 6       0          43         1         11  \n",
       "4                 2       0          60         1         14  \n",
       "...             ...     ...         ...       ...        ...  \n",
       "5164              8      21         132         1         27  \n",
       "5165              2       0          36         1          8  \n",
       "5166              7       0          51         1         10  \n",
       "5167              1       0         125         1         27  \n",
       "5168              1       0          25         1          6  \n",
       "\n",
       "[5169 rows x 7 columns]"
      ]
     },
     "execution_count": 35,
     "metadata": {},
     "output_type": "execute_result"
    }
   ],
   "source": [
    "new_df"
   ]
  },
  {
   "cell_type": "code",
   "execution_count": null,
   "metadata": {},
   "outputs": [],
   "source": []
  },
  {
   "cell_type": "code",
   "execution_count": 36,
   "metadata": {},
   "outputs": [
    {
     "data": {
      "text/html": [
       "<div>\n",
       "<style scoped>\n",
       "    .dataframe tbody tr th:only-of-type {\n",
       "        vertical-align: middle;\n",
       "    }\n",
       "\n",
       "    .dataframe tbody tr th {\n",
       "        vertical-align: top;\n",
       "    }\n",
       "\n",
       "    .dataframe thead th {\n",
       "        text-align: right;\n",
       "    }\n",
       "</style>\n",
       "<table border=\"1\" class=\"dataframe\">\n",
       "  <thead>\n",
       "    <tr style=\"text-align: right;\">\n",
       "      <th></th>\n",
       "      <th>special_chars</th>\n",
       "      <th>digits</th>\n",
       "      <th>characters</th>\n",
       "      <th>num_sent</th>\n",
       "      <th>num_words</th>\n",
       "    </tr>\n",
       "  </thead>\n",
       "  <tbody>\n",
       "    <tr>\n",
       "      <th>count</th>\n",
       "      <td>5169.000000</td>\n",
       "      <td>5169.000000</td>\n",
       "      <td>5169.000000</td>\n",
       "      <td>5169.000000</td>\n",
       "      <td>5169.000000</td>\n",
       "    </tr>\n",
       "    <tr>\n",
       "      <th>mean</th>\n",
       "      <td>4.091120</td>\n",
       "      <td>2.205069</td>\n",
       "      <td>73.312246</td>\n",
       "      <td>0.999420</td>\n",
       "      <td>15.373767</td>\n",
       "    </tr>\n",
       "    <tr>\n",
       "      <th>std</th>\n",
       "      <td>4.444055</td>\n",
       "      <td>6.025241</td>\n",
       "      <td>54.082901</td>\n",
       "      <td>0.024086</td>\n",
       "      <td>11.170071</td>\n",
       "    </tr>\n",
       "    <tr>\n",
       "      <th>min</th>\n",
       "      <td>0.000000</td>\n",
       "      <td>0.000000</td>\n",
       "      <td>0.000000</td>\n",
       "      <td>0.000000</td>\n",
       "      <td>0.000000</td>\n",
       "    </tr>\n",
       "    <tr>\n",
       "      <th>25%</th>\n",
       "      <td>2.000000</td>\n",
       "      <td>0.000000</td>\n",
       "      <td>34.000000</td>\n",
       "      <td>1.000000</td>\n",
       "      <td>7.000000</td>\n",
       "    </tr>\n",
       "    <tr>\n",
       "      <th>50%</th>\n",
       "      <td>3.000000</td>\n",
       "      <td>0.000000</td>\n",
       "      <td>57.000000</td>\n",
       "      <td>1.000000</td>\n",
       "      <td>12.000000</td>\n",
       "    </tr>\n",
       "    <tr>\n",
       "      <th>75%</th>\n",
       "      <td>6.000000</td>\n",
       "      <td>1.000000</td>\n",
       "      <td>108.000000</td>\n",
       "      <td>1.000000</td>\n",
       "      <td>22.000000</td>\n",
       "    </tr>\n",
       "    <tr>\n",
       "      <th>max</th>\n",
       "      <td>133.000000</td>\n",
       "      <td>47.000000</td>\n",
       "      <td>889.000000</td>\n",
       "      <td>1.000000</td>\n",
       "      <td>173.000000</td>\n",
       "    </tr>\n",
       "  </tbody>\n",
       "</table>\n",
       "</div>"
      ],
      "text/plain": [
       "       special_chars       digits   characters     num_sent    num_words\n",
       "count    5169.000000  5169.000000  5169.000000  5169.000000  5169.000000\n",
       "mean        4.091120     2.205069    73.312246     0.999420    15.373767\n",
       "std         4.444055     6.025241    54.082901     0.024086    11.170071\n",
       "min         0.000000     0.000000     0.000000     0.000000     0.000000\n",
       "25%         2.000000     0.000000    34.000000     1.000000     7.000000\n",
       "50%         3.000000     0.000000    57.000000     1.000000    12.000000\n",
       "75%         6.000000     1.000000   108.000000     1.000000    22.000000\n",
       "max       133.000000    47.000000   889.000000     1.000000   173.000000"
      ]
     },
     "execution_count": 36,
     "metadata": {},
     "output_type": "execute_result"
    }
   ],
   "source": [
    "new_df[['special_chars','digits','characters','num_sent','num_words']].describe()"
   ]
  },
  {
   "cell_type": "code",
   "execution_count": 37,
   "metadata": {},
   "outputs": [
    {
     "data": {
      "text/html": [
       "<div>\n",
       "<style scoped>\n",
       "    .dataframe tbody tr th:only-of-type {\n",
       "        vertical-align: middle;\n",
       "    }\n",
       "\n",
       "    .dataframe tbody tr th {\n",
       "        vertical-align: top;\n",
       "    }\n",
       "\n",
       "    .dataframe thead th {\n",
       "        text-align: right;\n",
       "    }\n",
       "</style>\n",
       "<table border=\"1\" class=\"dataframe\">\n",
       "  <thead>\n",
       "    <tr style=\"text-align: right;\">\n",
       "      <th></th>\n",
       "      <th>special_chars</th>\n",
       "      <th>digits</th>\n",
       "      <th>characters</th>\n",
       "      <th>num_sent</th>\n",
       "      <th>num_words</th>\n",
       "    </tr>\n",
       "  </thead>\n",
       "  <tbody>\n",
       "    <tr>\n",
       "      <th>count</th>\n",
       "      <td>4516.00000</td>\n",
       "      <td>4516.000000</td>\n",
       "      <td>4516.000000</td>\n",
       "      <td>4516.000000</td>\n",
       "      <td>4516.000000</td>\n",
       "    </tr>\n",
       "    <tr>\n",
       "      <th>mean</th>\n",
       "      <td>3.86581</td>\n",
       "      <td>0.290301</td>\n",
       "      <td>66.934012</td>\n",
       "      <td>0.999336</td>\n",
       "      <td>14.403454</td>\n",
       "    </tr>\n",
       "    <tr>\n",
       "      <th>std</th>\n",
       "      <td>4.52126</td>\n",
       "      <td>1.011825</td>\n",
       "      <td>54.010094</td>\n",
       "      <td>0.025768</td>\n",
       "      <td>11.415799</td>\n",
       "    </tr>\n",
       "    <tr>\n",
       "      <th>min</th>\n",
       "      <td>0.00000</td>\n",
       "      <td>0.000000</td>\n",
       "      <td>0.000000</td>\n",
       "      <td>0.000000</td>\n",
       "      <td>0.000000</td>\n",
       "    </tr>\n",
       "    <tr>\n",
       "      <th>25%</th>\n",
       "      <td>1.00000</td>\n",
       "      <td>0.000000</td>\n",
       "      <td>32.000000</td>\n",
       "      <td>1.000000</td>\n",
       "      <td>7.000000</td>\n",
       "    </tr>\n",
       "    <tr>\n",
       "      <th>50%</th>\n",
       "      <td>3.00000</td>\n",
       "      <td>0.000000</td>\n",
       "      <td>50.000000</td>\n",
       "      <td>1.000000</td>\n",
       "      <td>11.000000</td>\n",
       "    </tr>\n",
       "    <tr>\n",
       "      <th>75%</th>\n",
       "      <td>5.00000</td>\n",
       "      <td>0.000000</td>\n",
       "      <td>86.000000</td>\n",
       "      <td>1.000000</td>\n",
       "      <td>19.000000</td>\n",
       "    </tr>\n",
       "    <tr>\n",
       "      <th>max</th>\n",
       "      <td>133.00000</td>\n",
       "      <td>23.000000</td>\n",
       "      <td>889.000000</td>\n",
       "      <td>1.000000</td>\n",
       "      <td>173.000000</td>\n",
       "    </tr>\n",
       "  </tbody>\n",
       "</table>\n",
       "</div>"
      ],
      "text/plain": [
       "       special_chars       digits   characters     num_sent    num_words\n",
       "count     4516.00000  4516.000000  4516.000000  4516.000000  4516.000000\n",
       "mean         3.86581     0.290301    66.934012     0.999336    14.403454\n",
       "std          4.52126     1.011825    54.010094     0.025768    11.415799\n",
       "min          0.00000     0.000000     0.000000     0.000000     0.000000\n",
       "25%          1.00000     0.000000    32.000000     1.000000     7.000000\n",
       "50%          3.00000     0.000000    50.000000     1.000000    11.000000\n",
       "75%          5.00000     0.000000    86.000000     1.000000    19.000000\n",
       "max        133.00000    23.000000   889.000000     1.000000   173.000000"
      ]
     },
     "execution_count": 37,
     "metadata": {},
     "output_type": "execute_result"
    }
   ],
   "source": [
    "new_df[new_df['output']==0][['special_chars','digits','characters','num_sent','num_words']].describe()"
   ]
  },
  {
   "cell_type": "code",
   "execution_count": 38,
   "metadata": {},
   "outputs": [
    {
     "data": {
      "text/html": [
       "<div>\n",
       "<style scoped>\n",
       "    .dataframe tbody tr th:only-of-type {\n",
       "        vertical-align: middle;\n",
       "    }\n",
       "\n",
       "    .dataframe tbody tr th {\n",
       "        vertical-align: top;\n",
       "    }\n",
       "\n",
       "    .dataframe thead th {\n",
       "        text-align: right;\n",
       "    }\n",
       "</style>\n",
       "<table border=\"1\" class=\"dataframe\">\n",
       "  <thead>\n",
       "    <tr style=\"text-align: right;\">\n",
       "      <th></th>\n",
       "      <th>special_chars</th>\n",
       "      <th>digits</th>\n",
       "      <th>characters</th>\n",
       "      <th>num_sent</th>\n",
       "      <th>num_words</th>\n",
       "    </tr>\n",
       "  </thead>\n",
       "  <tbody>\n",
       "    <tr>\n",
       "      <th>count</th>\n",
       "      <td>653.000000</td>\n",
       "      <td>653.000000</td>\n",
       "      <td>653.000000</td>\n",
       "      <td>653.0</td>\n",
       "      <td>653.000000</td>\n",
       "    </tr>\n",
       "    <tr>\n",
       "      <th>mean</th>\n",
       "      <td>5.649311</td>\n",
       "      <td>15.447167</td>\n",
       "      <td>117.422665</td>\n",
       "      <td>1.0</td>\n",
       "      <td>22.084227</td>\n",
       "    </tr>\n",
       "    <tr>\n",
       "      <th>std</th>\n",
       "      <td>3.493353</td>\n",
       "      <td>8.924653</td>\n",
       "      <td>27.449098</td>\n",
       "      <td>0.0</td>\n",
       "      <td>5.908345</td>\n",
       "    </tr>\n",
       "    <tr>\n",
       "      <th>min</th>\n",
       "      <td>0.000000</td>\n",
       "      <td>0.000000</td>\n",
       "      <td>4.000000</td>\n",
       "      <td>1.0</td>\n",
       "      <td>1.000000</td>\n",
       "    </tr>\n",
       "    <tr>\n",
       "      <th>25%</th>\n",
       "      <td>3.000000</td>\n",
       "      <td>9.000000</td>\n",
       "      <td>107.000000</td>\n",
       "      <td>1.0</td>\n",
       "      <td>20.000000</td>\n",
       "    </tr>\n",
       "    <tr>\n",
       "      <th>50%</th>\n",
       "      <td>5.000000</td>\n",
       "      <td>16.000000</td>\n",
       "      <td>125.000000</td>\n",
       "      <td>1.0</td>\n",
       "      <td>23.000000</td>\n",
       "    </tr>\n",
       "    <tr>\n",
       "      <th>75%</th>\n",
       "      <td>8.000000</td>\n",
       "      <td>22.000000</td>\n",
       "      <td>135.000000</td>\n",
       "      <td>1.0</td>\n",
       "      <td>26.000000</td>\n",
       "    </tr>\n",
       "    <tr>\n",
       "      <th>max</th>\n",
       "      <td>26.000000</td>\n",
       "      <td>47.000000</td>\n",
       "      <td>185.000000</td>\n",
       "      <td>1.0</td>\n",
       "      <td>39.000000</td>\n",
       "    </tr>\n",
       "  </tbody>\n",
       "</table>\n",
       "</div>"
      ],
      "text/plain": [
       "       special_chars      digits  characters  num_sent   num_words\n",
       "count     653.000000  653.000000  653.000000     653.0  653.000000\n",
       "mean        5.649311   15.447167  117.422665       1.0   22.084227\n",
       "std         3.493353    8.924653   27.449098       0.0    5.908345\n",
       "min         0.000000    0.000000    4.000000       1.0    1.000000\n",
       "25%         3.000000    9.000000  107.000000       1.0   20.000000\n",
       "50%         5.000000   16.000000  125.000000       1.0   23.000000\n",
       "75%         8.000000   22.000000  135.000000       1.0   26.000000\n",
       "max        26.000000   47.000000  185.000000       1.0   39.000000"
      ]
     },
     "execution_count": 38,
     "metadata": {},
     "output_type": "execute_result"
    }
   ],
   "source": [
    "new_df[new_df['output']==1][['special_chars','digits','characters','num_sent','num_words']].describe()"
   ]
  },
  {
   "cell_type": "markdown",
   "metadata": {},
   "source": [
    "# FINDING CORRELATION"
   ]
  },
  {
   "cell_type": "code",
   "execution_count": 39,
   "metadata": {},
   "outputs": [
    {
     "data": {
      "text/plain": [
       "<AxesSubplot: >"
      ]
     },
     "execution_count": 39,
     "metadata": {},
     "output_type": "execute_result"
    },
    {
     "data": {
      "image/png": "[encoded data removed]",
      "text/plain": [
       "<Figure size 432x288 with 2 Axes>"
      ]
     },
     "metadata": {
      "needs_background": "light"
     },
     "output_type": "display_data"
    }
   ],
   "source": [
    "sns.heatmap(new_df.corr(),annot=True)"
   ]
  },
  {
   "cell_type": "code",
   "execution_count": 40,
   "metadata": {},
   "outputs": [],
   "source": [
    "# FOR output --> digits,special_characters,characters"
   ]
  },
  {
   "cell_type": "markdown",
   "metadata": {},
   "source": [
    "# DATA PREPROCESSING\n"
   ]
  },
  {
   "cell_type": "code",
   "execution_count": 41,
   "metadata": {},
   "outputs": [],
   "source": [
    "from nltk.corpus import stopwords\n",
    "stopwords = set(stopwords.words(\"english\"))\n",
    "from nltk.stem import PorterStemmer\n",
    "ps = PorterStemmer()\n",
    "import string"
   ]
  },
  {
   "cell_type": "code",
   "execution_count": 42,
   "metadata": {},
   "outputs": [],
   "source": [
    "def transform_text(text):\n",
    "    text = text.lower()\n",
    "    text = nltk.word_tokenize(text)\n",
    "    \n",
    "    y = []\n",
    "    for i in text:\n",
    "        if i.isalnum():\n",
    "            y.append(i)\n",
    "    \n",
    "    text = y[:]\n",
    "    y.clear()\n",
    "    \n",
    "    \n",
    "    for i in text:\n",
    "        if i not in stopwords and i not in string.punctuation:\n",
    "            y.append(i)\n",
    "            \n",
    "    text = y[:]\n",
    "    y.clear()\n",
    "    \n",
    "    for i in text:\n",
    "        y.append(ps.stem(i))\n",
    "    \n",
    "            \n",
    "    return \" \".join(y)"
   ]
  },
  {
   "cell_type": "code",
   "execution_count": 43,
   "metadata": {},
   "outputs": [
    {
     "data": {
      "text/plain": [
       "'gon na home soon want talk stuff anymor tonight k cri enough today'"
      ]
     },
     "execution_count": 43,
     "metadata": {},
     "output_type": "execute_result"
    }
   ],
   "source": [
    "transform_text(new_df['text'][10])"
   ]
  },
  {
   "cell_type": "code",
   "execution_count": 44,
   "metadata": {},
   "outputs": [],
   "source": [
    "new_df['transformed_text'] = new_df['text'].apply(transform_text)"
   ]
  },
  {
   "cell_type": "code",
   "execution_count": 45,
   "metadata": {},
   "outputs": [
    {
     "data": {
      "text/html": [
       "<div>\n",
       "<style scoped>\n",
       "    .dataframe tbody tr th:only-of-type {\n",
       "        vertical-align: middle;\n",
       "    }\n",
       "\n",
       "    .dataframe tbody tr th {\n",
       "        vertical-align: top;\n",
       "    }\n",
       "\n",
       "    .dataframe thead th {\n",
       "        text-align: right;\n",
       "    }\n",
       "</style>\n",
       "<table border=\"1\" class=\"dataframe\">\n",
       "  <thead>\n",
       "    <tr style=\"text-align: right;\">\n",
       "      <th></th>\n",
       "      <th>output</th>\n",
       "      <th>text</th>\n",
       "      <th>special_chars</th>\n",
       "      <th>digits</th>\n",
       "      <th>characters</th>\n",
       "      <th>num_sent</th>\n",
       "      <th>num_words</th>\n",
       "      <th>transformed_text</th>\n",
       "    </tr>\n",
       "  </thead>\n",
       "  <tbody>\n",
       "    <tr>\n",
       "      <th>0</th>\n",
       "      <td>0</td>\n",
       "      <td>Go until jurong point crazy Available only in ...</td>\n",
       "      <td>9</td>\n",
       "      <td>0</td>\n",
       "      <td>102</td>\n",
       "      <td>1</td>\n",
       "      <td>20</td>\n",
       "      <td>go jurong point crazi avail bugi n great world...</td>\n",
       "    </tr>\n",
       "    <tr>\n",
       "      <th>1</th>\n",
       "      <td>0</td>\n",
       "      <td>Ok lar Joking wif u oni</td>\n",
       "      <td>6</td>\n",
       "      <td>0</td>\n",
       "      <td>23</td>\n",
       "      <td>1</td>\n",
       "      <td>6</td>\n",
       "      <td>ok lar joke wif u oni</td>\n",
       "    </tr>\n",
       "    <tr>\n",
       "      <th>2</th>\n",
       "      <td>1</td>\n",
       "      <td>Free entry in  a wkly comp to win FA Cup final...</td>\n",
       "      <td>6</td>\n",
       "      <td>25</td>\n",
       "      <td>127</td>\n",
       "      <td>1</td>\n",
       "      <td>29</td>\n",
       "      <td>free entri wkli comp win fa cup final tkt st m...</td>\n",
       "    </tr>\n",
       "    <tr>\n",
       "      <th>3</th>\n",
       "      <td>0</td>\n",
       "      <td>U dun say so early hor U c already then say</td>\n",
       "      <td>6</td>\n",
       "      <td>0</td>\n",
       "      <td>43</td>\n",
       "      <td>1</td>\n",
       "      <td>11</td>\n",
       "      <td>u dun say earli hor u c alreadi say</td>\n",
       "    </tr>\n",
       "    <tr>\n",
       "      <th>4</th>\n",
       "      <td>0</td>\n",
       "      <td>Nah I don't think he goes to usf he lives arou...</td>\n",
       "      <td>2</td>\n",
       "      <td>0</td>\n",
       "      <td>60</td>\n",
       "      <td>1</td>\n",
       "      <td>14</td>\n",
       "      <td>nah think goe usf live around though</td>\n",
       "    </tr>\n",
       "  </tbody>\n",
       "</table>\n",
       "</div>"
      ],
      "text/plain": [
       "   output                                               text  special_chars  \\\n",
       "0       0  Go until jurong point crazy Available only in ...              9   \n",
       "1       0                            Ok lar Joking wif u oni              6   \n",
       "2       1  Free entry in  a wkly comp to win FA Cup final...              6   \n",
       "3       0        U dun say so early hor U c already then say              6   \n",
       "4       0  Nah I don't think he goes to usf he lives arou...              2   \n",
       "\n",
       "   digits  characters  num_sent  num_words  \\\n",
       "0       0         102         1         20   \n",
       "1       0          23         1          6   \n",
       "2      25         127         1         29   \n",
       "3       0          43         1         11   \n",
       "4       0          60         1         14   \n",
       "\n",
       "                                    transformed_text  \n",
       "0  go jurong point crazi avail bugi n great world...  \n",
       "1                              ok lar joke wif u oni  \n",
       "2  free entri wkli comp win fa cup final tkt st m...  \n",
       "3                u dun say earli hor u c alreadi say  \n",
       "4               nah think goe usf live around though  "
      ]
     },
     "execution_count": 45,
     "metadata": {},
     "output_type": "execute_result"
    }
   ],
   "source": [
    "new_df.head()"
   ]
  },
  {
   "cell_type": "markdown",
   "metadata": {},
   "source": [
    "### WORDCLOUD"
   ]
  },
  {
   "cell_type": "code",
   "execution_count": 46,
   "metadata": {},
   "outputs": [],
   "source": [
    "from wordcloud import WordCloud\n",
    "wc = WordCloud(width=500,height=500,min_font_size=10,background_color='black')"
   ]
  },
  {
   "cell_type": "code",
   "execution_count": 47,
   "metadata": {},
   "outputs": [
    {
     "data": {
      "text/plain": [
       "<matplotlib.image.AxesImage at 0x1d49d6ec460>"
      ]
     },
     "execution_count": 47,
     "metadata": {},
     "output_type": "execute_result"
    },
    {
     "data": {
      "image/png": "[encoded data removed]",
      "text/plain": [
       "<Figure size 1080x432 with 1 Axes>"
      ]
     },
     "metadata": {
      "needs_background": "light"
     },
     "output_type": "display_data"
    }
   ],
   "source": [
    "#wordcloud for spam \n",
    "spam_wc = wc.generate(new_df[new_df['output'] == 1]['transformed_text'].str.cat(sep=\" \"))\n",
    "plt.figure(figsize=(15,6))\n",
    "plt.imshow(spam_wc)"
   ]
  },
  {
   "cell_type": "code",
   "execution_count": 48,
   "metadata": {},
   "outputs": [
    {
     "data": {
      "text/plain": [
       "<matplotlib.image.AxesImage at 0x1d49d6def40>"
      ]
     },
     "execution_count": 48,
     "metadata": {},
     "output_type": "execute_result"
    },
    {
     "data": {
      "image/png": "[encoded data removed]",
      "text/plain": [
       "<Figure size 1080x432 with 1 Axes>"
      ]
     },
     "metadata": {
      "needs_background": "light"
     },
     "output_type": "display_data"
    }
   ],
   "source": [
    "#for ham \n",
    "ham_wc = wc.generate(new_df[new_df['output'] == 0]['transformed_text'].str.cat(sep=\" \"))\n",
    "plt.figure(figsize=(15,6))\n",
    "plt.imshow(ham_wc)"
   ]
  },
  {
   "cell_type": "code",
   "execution_count": 49,
   "metadata": {},
   "outputs": [],
   "source": [
    "# FINDING WORDS IN SPAM AND PLOTTING \n",
    "spam_words = []\n",
    "for text in new_df[new_df['output'] == 1]['transformed_text'].tolist():\n",
    "    for word in text.split(' '):\n",
    "        spam_words.append(word)"
   ]
  },
  {
   "cell_type": "code",
   "execution_count": 50,
   "metadata": {},
   "outputs": [
    {
     "name": "stderr",
     "output_type": "stream",
     "text": [
      "C:\\Users\\DEll\\anaconda3\\lib\\site-packages\\seaborn\\_decorators.py:36: FutureWarning: Pass the following variables as keyword args: x, y. From version 0.12, the only valid positional argument will be `data`, and passing other arguments without an explicit keyword will result in an error or misinterpretation.\n",
      "  warnings.warn(\n"
     ]
    },
    {
     "data": {
      "image/png": "[encoded data removed]",
      "text/plain": [
       "<Figure size 432x288 with 1 Axes>"
      ]
     },
     "metadata": {
      "needs_background": "light"
     },
     "output_type": "display_data"
    }
   ],
   "source": [
    "from collections import Counter\n",
    "sns.barplot(pd.DataFrame(Counter(spam_words).most_common(30))[0],pd.DataFrame(Counter(spam_words).most_common(30))[1])\n",
    "plt.xticks(rotation='vertical')\n",
    "plt.show()"
   ]
  },
  {
   "cell_type": "code",
   "execution_count": null,
   "metadata": {},
   "outputs": [],
   "source": []
  },
  {
   "cell_type": "code",
   "execution_count": null,
   "metadata": {},
   "outputs": [],
   "source": []
  },
  {
   "cell_type": "markdown",
   "metadata": {},
   "source": [
    "# APPLYING TEXT VECTORIZATION"
   ]
  },
  {
   "cell_type": "code",
   "execution_count": 51,
   "metadata": {},
   "outputs": [],
   "source": [
    "from sklearn.feature_extraction.text import CountVectorizer,TfidfVectorizer\n",
    "cv = CountVectorizer()"
   ]
  },
  {
   "cell_type": "code",
   "execution_count": 52,
   "metadata": {},
   "outputs": [
    {
     "data": {
      "text/plain": [
       "array([[0, 0, 0, ..., 0, 0, 0],\n",
       "       [0, 0, 0, ..., 0, 0, 0],\n",
       "       [0, 0, 0, ..., 0, 0, 0],\n",
       "       ...,\n",
       "       [0, 0, 0, ..., 0, 0, 0],\n",
       "       [0, 0, 0, ..., 0, 0, 0],\n",
       "       [0, 0, 0, ..., 0, 0, 0]], dtype=int64)"
      ]
     },
     "execution_count": 52,
     "metadata": {},
     "output_type": "execute_result"
    }
   ],
   "source": [
    "X = cv.fit_transform(new_df['transformed_text']).toarray()\n",
    "X"
   ]
  },
  {
   "cell_type": "code",
   "execution_count": 53,
   "metadata": {},
   "outputs": [
    {
     "data": {
      "text/plain": [
       "(5169, 6968)"
      ]
     },
     "execution_count": 53,
     "metadata": {},
     "output_type": "execute_result"
    }
   ],
   "source": [
    "X.shape"
   ]
  },
  {
   "cell_type": "code",
   "execution_count": 54,
   "metadata": {},
   "outputs": [],
   "source": [
    "y = new_df['output'].values"
   ]
  },
  {
   "cell_type": "markdown",
   "metadata": {},
   "source": [
    "# TRAIN TEST SPLIT"
   ]
  },
  {
   "cell_type": "code",
   "execution_count": 55,
   "metadata": {},
   "outputs": [],
   "source": [
    "from sklearn.model_selection import train_test_split"
   ]
  },
  {
   "cell_type": "code",
   "execution_count": 56,
   "metadata": {},
   "outputs": [
    {
     "data": {
      "text/plain": [
       "(3101, 6968)"
      ]
     },
     "execution_count": 56,
     "metadata": {},
     "output_type": "execute_result"
    }
   ],
   "source": [
    "X_train,X_test,y_train,y_test = train_test_split(X,y,test_size=0.4,random_state=2)\n",
    "X_train.shape"
   ]
  },
  {
   "cell_type": "code",
   "execution_count": null,
   "metadata": {},
   "outputs": [],
   "source": []
  },
  {
   "cell_type": "markdown",
   "metadata": {},
   "source": [
    "# MAKING ML MODELS"
   ]
  },
  {
   "cell_type": "code",
   "execution_count": 57,
   "metadata": {},
   "outputs": [],
   "source": [
    "from sklearn.linear_model import LogisticRegression\n",
    "from sklearn.svm import SVC\n",
    "from sklearn.naive_bayes import GaussianNB,MultinomialNB,BernoulliNB\n",
    "from sklearn.tree import DecisionTreeClassifier\n",
    "from sklearn.neighbors import KNeighborsClassifier\n",
    "\n",
    "from sklearn.metrics import accuracy_score,confusion_matrix,precision_score"
   ]
  },
  {
   "cell_type": "code",
   "execution_count": 58,
   "metadata": {},
   "outputs": [],
   "source": [
    "svc = SVC(kernel='sigmoid', gamma=1.0)\n",
    "knc = KNeighborsClassifier()\n",
    "mnb = MultinomialNB()\n",
    "gnb = GaussianNB()\n",
    "bnb = BernoulliNB()\n",
    "dtc = DecisionTreeClassifier(max_depth=5)\n",
    "lrc = LogisticRegression(solver='liblinear', penalty='l1')"
   ]
  },
  {
   "cell_type": "code",
   "execution_count": 59,
   "metadata": {},
   "outputs": [],
   "source": [
    "classifiers = {\n",
    "    'Support Vector Classfiers' : svc,\n",
    "    'K Nearest Neighbours' : knc, \n",
    "    'Multinomial Naive Bayes': mnb,\n",
    "    'Gaussian Naive Bayes':gnb,\n",
    "    'Binomial Naive Bayes':bnb,\n",
    "    'Decision Trees': dtc, \n",
    "    'Logistic Regression': lrc\n",
    "}"
   ]
  },
  {
   "cell_type": "code",
   "execution_count": 63,
   "metadata": {},
   "outputs": [],
   "source": [
    "def train_classifier(model,X_train,y_train,X_test,y_test):\n",
    "    \n",
    "    model.fit(X_train,y_train)\n",
    "    y_pred = model.predict(X_test)\n",
    "    \n",
    "    accuracy = accuracy_score(y_test,y_pred)\n",
    "    precision = precision_score(y_test,y_pred)\n",
    "    confusion_mat = confusion_matrix(y_test,y_pred)\n",
    "    \n",
    "    return accuracy,precision,confusion_mat"
   ]
  },
  {
   "cell_type": "code",
   "execution_count": 65,
   "metadata": {},
   "outputs": [
    {
     "name": "stdout",
     "output_type": "stream",
     "text": [
      "For  Support Vector Classfiers\n",
      "Accuracy -  0.9289168278529981\n",
      "Precision -  0.7219917012448133\n",
      "Confusion Matrix - \n",
      " [[1747   67]\n",
      " [  80  174]]\n",
      "\n",
      "\n",
      "\n",
      "\n",
      "For  K Nearest Neighbours\n",
      "Accuracy -  0.9100580270793037\n",
      "Precision -  1.0\n",
      "Confusion Matrix - \n",
      " [[1814    0]\n",
      " [ 186   68]]\n",
      "\n",
      "\n",
      "\n",
      "\n",
      "For  Multinomial Naive Bayes\n",
      "Accuracy -  0.9608317214700194\n",
      "Precision -  0.8145454545454546\n",
      "Confusion Matrix - \n",
      " [[1763   51]\n",
      " [  30  224]]\n",
      "\n",
      "\n",
      "\n",
      "\n",
      "For  Gaussian Naive Bayes\n",
      "Accuracy -  0.8699226305609284\n",
      "Precision -  0.4823529411764706\n",
      "Confusion Matrix - \n",
      " [[1594  220]\n",
      " [  49  205]]\n",
      "\n",
      "\n",
      "\n",
      "\n",
      "For  Binomial Naive Bayes\n",
      "Accuracy -  0.9656673114119922\n",
      "Precision -  0.9740932642487047\n",
      "Confusion Matrix - \n",
      " [[1809    5]\n",
      " [  66  188]]\n",
      "\n",
      "\n",
      "\n",
      "\n",
      "For  Decision Trees\n",
      "Accuracy -  0.9327852998065764\n",
      "Precision -  0.9323308270676691\n",
      "Confusion Matrix - \n",
      " [[1805    9]\n",
      " [ 130  124]]\n",
      "\n",
      "\n",
      "\n",
      "\n",
      "For  Logistic Regression\n",
      "Accuracy -  0.9700193423597679\n",
      "Precision -  0.9848484848484849\n",
      "Confusion Matrix - \n",
      " [[1811    3]\n",
      " [  59  195]]\n",
      "\n",
      "\n",
      "\n",
      "\n"
     ]
    }
   ],
   "source": [
    "for name,model in classifiers.items():\n",
    "    current_accuracy,current_precision,confusion_mat = train_classifier(model, X_train,y_train,X_test,y_test)\n",
    "    \n",
    "    print(\"For \",name)\n",
    "    print(\"Accuracy - \",current_accuracy)\n",
    "    print(\"Precision - \",current_precision)\n",
    "    print(\"Confusion Matrix - \\n\",confusion_mat)\n",
    "    print(\"\\n\\n\\n\")"
   ]
  },
  {
   "cell_type": "code",
   "execution_count": null,
   "metadata": {},
   "outputs": [],
   "source": []
  }
 ],
 "metadata": {
  "kernelspec": {
   "display_name": "Python 3",
   "language": "python",
   "name": "python3"
  },
  "language_info": {
   "codemirror_mode": {
    "name": "ipython",
    "version": 3
   },
   "file_extension": ".py",
   "mimetype": "text/x-python",
   "name": "python",
   "nbconvert_exporter": "python",
   "pygments_lexer": "ipython3",
   "version": "3.8.5"
  }
 },
 "nbformat": 4,
 "nbformat_minor": 4
}
